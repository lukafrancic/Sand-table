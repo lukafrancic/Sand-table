{
 "cells": [
  {
   "cell_type": "code",
   "execution_count": 1,
   "id": "60f81356",
   "metadata": {},
   "outputs": [],
   "source": [
    "import stlib as st\n",
    "import numpy as np\n",
    "\n",
    "import matplotlib.pyplot as plt\n",
    "\n",
    "import asyncio"
   ]
  },
  {
   "cell_type": "code",
   "execution_count": 2,
   "id": "691a9910",
   "metadata": {},
   "outputs": [],
   "source": [
    "ww = st.Worker()"
   ]
  },
  {
   "cell_type": "code",
   "execution_count": 68,
   "id": "4b9deb96",
   "metadata": {},
   "outputs": [],
   "source": [
    "pt = st.SpiralAboutCenter(150,50, num_revolutions=0.5)"
   ]
  },
  {
   "cell_type": "code",
   "execution_count": 69,
   "id": "6242fe4d",
   "metadata": {},
   "outputs": [],
   "source": [
    "pt.create()"
   ]
  },
  {
   "cell_type": "code",
   "execution_count": 70,
   "id": "6b4bec04",
   "metadata": {},
   "outputs": [
    {
     "data": {
      "text/plain": [
       "array([[150.        ,   0.        ],\n",
       "       [ 50.        ,   3.14159265]])"
      ]
     },
     "execution_count": 70,
     "metadata": {},
     "output_type": "execute_result"
    }
   ],
   "source": [
    "pt.pts"
   ]
  },
  {
   "cell_type": "code",
   "execution_count": 71,
   "id": "c05c06e3",
   "metadata": {},
   "outputs": [
    {
     "data": {
      "text/plain": [
       "array([[12272,     0],\n",
       "       [ 4090, 13100]], dtype=int32)"
      ]
     },
     "execution_count": 71,
     "metadata": {},
     "output_type": "execute_result"
    }
   ],
   "source": [
    "pt.positions = np.zeros_like(pt.pts)\n",
    "pt.positions[:,0] = pt.pts[:,0]*pt.RADIUS_STEPS_MM\n",
    "pt.positions[:,1] = pt.pts[:,1]*pt.ANGLE_STEPS_RAD\n",
    "pt.positions = pt.positions.astype(np.int32)\n",
    "pt.positions"
   ]
  },
  {
   "cell_type": "code",
   "execution_count": 72,
   "id": "c097080c",
   "metadata": {},
   "outputs": [
    {
     "data": {
      "text/plain": [
       "array([[12272,     0],\n",
       "       [ 4090, 13100]], dtype=int32)"
      ]
     },
     "execution_count": 72,
     "metadata": {},
     "output_type": "execute_result"
    }
   ],
   "source": [
    "pt.positions"
   ]
  },
  {
   "cell_type": "code",
   "execution_count": 5,
   "id": "527132f1",
   "metadata": {},
   "outputs": [
    {
     "data": {
      "text/plain": [
       "0"
      ]
     },
     "execution_count": 5,
     "metadata": {},
     "output_type": "execute_result"
    }
   ],
   "source": [
    "ww.com.serial.in_waiting"
   ]
  },
  {
   "cell_type": "code",
   "execution_count": null,
   "id": "9a711902",
   "metadata": {},
   "outputs": [
    {
     "name": "stdout",
     "output_type": "stream",
     "text": [
      "Started workers\n"
     ]
    },
    {
     "name": "stdout",
     "output_type": "stream",
     "text": [
      "sent toggle\n",
      "send toggle msg\n",
      "b'f'\n",
      "Got PathMaker\n",
      "finished task\n",
      "finished a move\n",
      "b'f'\n",
      "finished a move\n",
      "b'f'\n",
      "Got PathMaker\n",
      "finished task\n",
      "finished a move\n",
      "b'f'\n",
      "finished a move\n",
      "b'f'\n",
      "Got PathMaker\n",
      "finished task\n",
      "finished a move\n",
      "b'f'\n",
      "finished a move\n",
      "b'f'\n",
      "Got PathMaker\n",
      "finished task\n",
      "finished a move\n",
      "b'f'\n",
      "finished a move\n",
      "b'f'\n",
      "Got PathMaker\n",
      "finished task\n",
      "finished a move\n",
      "b'f'\n",
      "finished a move\n",
      "b'f'\n",
      "Got PathMaker\n",
      "finished task\n",
      "finished a move\n",
      "b'f'\n",
      "finished a move\n",
      "b'f'\n",
      "Got PathMaker\n",
      "finished task\n",
      "finished a move\n",
      "b'f'\n",
      "finished a move\n",
      "b'f'\n",
      "Got PathMaker\n",
      "finished task\n",
      "finished a move\n",
      "b'f'\n",
      "finished a move\n",
      "b'f'\n",
      "Got PathMaker\n",
      "finished task\n",
      "finished a move\n",
      "b'f'\n",
      "finished a move\n",
      "b'f'\n",
      "Got PathMaker\n",
      "finished task\n",
      "finished a move\n",
      "b'f'\n",
      "finished a move\n",
      "b'f'\n"
     ]
    }
   ],
   "source": [
    "ww.start_worker()"
   ]
  },
  {
   "cell_type": "code",
   "execution_count": 7,
   "id": "ab362525",
   "metadata": {},
   "outputs": [
    {
     "name": "stdout",
     "output_type": "stream",
     "text": [
      "sent msg\n"
     ]
    }
   ],
   "source": [
    "msg = {\"msg\":\"t\", \"val\":0}\n",
    "ww.add_msg(msg)"
   ]
  },
  {
   "cell_type": "code",
   "execution_count": 58,
   "id": "118cb0a2",
   "metadata": {},
   "outputs": [
    {
     "data": {
      "text/plain": [
       "array([[    0,     0],\n",
       "       [12272, 65500]], dtype=int32)"
      ]
     },
     "execution_count": 58,
     "metadata": {},
     "output_type": "execute_result"
    }
   ],
   "source": [
    "pt.positions"
   ]
  },
  {
   "cell_type": "code",
   "execution_count": 67,
   "id": "b974063f",
   "metadata": {},
   "outputs": [
    {
     "data": {
      "text/plain": [
       "15000.000595238096"
      ]
     },
     "execution_count": 67,
     "metadata": {},
     "output_type": "execute_result"
    }
   ],
   "source": [
    "126000005/4200/2"
   ]
  },
  {
   "cell_type": "code",
   "execution_count": 66,
   "id": "9be1c424",
   "metadata": {},
   "outputs": [
    {
     "data": {
      "text/plain": [
       "b'\\x07\\x82\\x9b\\x85'"
      ]
     },
     "execution_count": 66,
     "metadata": {},
     "output_type": "execute_result"
    }
   ],
   "source": [
    "int(126000005).to_bytes(4, \"big\", signed=True)"
   ]
  },
  {
   "cell_type": "code",
   "execution_count": 4,
   "id": "66253f02",
   "metadata": {},
   "outputs": [],
   "source": [
    "import numpy as np"
   ]
  },
  {
   "cell_type": "code",
   "execution_count": 5,
   "id": "78c8f20f",
   "metadata": {},
   "outputs": [
    {
     "data": {
      "text/plain": [
       "np.float64(1.0)"
      ]
     },
     "execution_count": 5,
     "metadata": {},
     "output_type": "execute_result"
    }
   ],
   "source": [
    "np.ceil(0.7)"
   ]
  },
  {
   "cell_type": "code",
   "execution_count": 73,
   "id": "0a2962c2",
   "metadata": {},
   "outputs": [
    {
     "name": "stdout",
     "output_type": "stream",
     "text": [
      "Added to queue\n"
     ]
    }
   ],
   "source": [
    "ww.add_PathMaker(pt)"
   ]
  },
  {
   "cell_type": "code",
   "execution_count": null,
   "id": "0b7f8223",
   "metadata": {},
   "outputs": [],
   "source": [
    "ww.end_workers()"
   ]
  },
  {
   "cell_type": "code",
   "execution_count": 31,
   "id": "4eed0417",
   "metadata": {},
   "outputs": [
    {
     "data": {
      "text/plain": [
       "b'ff'"
      ]
     },
     "execution_count": 31,
     "metadata": {},
     "output_type": "execute_result"
    }
   ],
   "source": [
    "rec = ww.com.serial.read_all()\n",
    "rec"
   ]
  },
  {
   "cell_type": "code",
   "execution_count": 4,
   "id": "44bfdc90",
   "metadata": {},
   "outputs": [],
   "source": [
    "HEADER = b\"ab\"\n",
    "POSITION_MSG = b\"c\"\n",
    "UPDATE_SPEED = b\"d\"\n",
    "TOGGLE_MSG = b\"e\"\n",
    "FINISH_MOVE = b\"f\"\n"
   ]
  },
  {
   "cell_type": "code",
   "execution_count": 42,
   "id": "33fc714e",
   "metadata": {},
   "outputs": [
    {
     "ename": "ValueError",
     "evalue": "Object has not been initialized!",
     "output_type": "error",
     "traceback": [
      "\u001b[31m---------------------------------------------------------------------------\u001b[39m",
      "\u001b[31mValueError\u001b[39m                                Traceback (most recent call last)",
      "\u001b[36mCell\u001b[39m\u001b[36m \u001b[39m\u001b[32mIn[42]\u001b[39m\u001b[32m, line 1\u001b[39m\n\u001b[32m----> \u001b[39m\u001b[32m1\u001b[39m pos = \u001b[38;5;28;43mnext\u001b[39;49m\u001b[43m(\u001b[49m\u001b[43mpt\u001b[49m\u001b[43m)\u001b[49m\n\u001b[32m      2\u001b[39m pos\n",
      "\u001b[36mFile \u001b[39m\u001b[32mc:\\Users\\lukaf\\Documents\\Github_repos\\Sand-table\\stlib\\path_maker.py:176\u001b[39m, in \u001b[36mPathMaker.__next__\u001b[39m\u001b[34m(self)\u001b[39m\n\u001b[32m    174\u001b[39m \u001b[38;5;28;01mdef\u001b[39;00m\u001b[38;5;250m \u001b[39m\u001b[34m__next__\u001b[39m(\u001b[38;5;28mself\u001b[39m):\n\u001b[32m    175\u001b[39m     \u001b[38;5;28;01mif\u001b[39;00m \u001b[38;5;129;01mnot\u001b[39;00m \u001b[38;5;28mself\u001b[39m._is_initialized:\n\u001b[32m--> \u001b[39m\u001b[32m176\u001b[39m         \u001b[38;5;28;01mraise\u001b[39;00m \u001b[38;5;167;01mValueError\u001b[39;00m(\u001b[33m\"\u001b[39m\u001b[33mObject has not been initialized!\u001b[39m\u001b[33m\"\u001b[39m)\n\u001b[32m    178\u001b[39m     \u001b[38;5;28;01mif\u001b[39;00m \u001b[38;5;28mself\u001b[39m._current_idx == \u001b[38;5;28mself\u001b[39m._pts_size:\n\u001b[32m    179\u001b[39m         \u001b[38;5;28mself\u001b[39m._iter_counter += \u001b[32m1\u001b[39m\n",
      "\u001b[31mValueError\u001b[39m: Object has not been initialized!"
     ]
    }
   ],
   "source": [
    "pos = next(pt)\n",
    "pos"
   ]
  },
  {
   "cell_type": "code",
   "execution_count": 29,
   "id": "49b3979a",
   "metadata": {},
   "outputs": [
    {
     "data": {
      "text/plain": [
       "11"
      ]
     },
     "execution_count": 29,
     "metadata": {},
     "output_type": "execute_result"
    }
   ],
   "source": [
    "\n",
    "r = 7000\n",
    "phi = 35000\n",
    "\n",
    "pos_r = r.to_bytes(4, \"big\", signed=True)\n",
    "pos_phi = phi.to_bytes(4, \"big\", signed=True)\n",
    "\n",
    "msg = HEADER + POSITION_MSG + pos_r + pos_phi\n",
    "\n",
    "ww.com.serial.write(msg)"
   ]
  },
  {
   "cell_type": "code",
   "execution_count": 28,
   "id": "3e25aba7",
   "metadata": {},
   "outputs": [
    {
     "data": {
      "text/plain": [
       "3"
      ]
     },
     "execution_count": 28,
     "metadata": {},
     "output_type": "execute_result"
    }
   ],
   "source": [
    "msg = HEADER + TOGGLE_MSG\n",
    "\n",
    "ww.com.serial.write(msg)"
   ]
  },
  {
   "cell_type": "code",
   "execution_count": null,
   "id": "934d3dcf",
   "metadata": {},
   "outputs": [
    {
     "data": {
      "text/plain": [
       "11"
      ]
     },
     "execution_count": 14,
     "metadata": {},
     "output_type": "execute_result"
    }
   ],
   "source": []
  },
  {
   "cell_type": "code",
   "execution_count": 7,
   "id": "786b9671",
   "metadata": {},
   "outputs": [
    {
     "data": {
      "text/plain": [
       "<coroutine object Worker.start_worker at 0x00000248D51329B0>"
      ]
     },
     "execution_count": 7,
     "metadata": {},
     "output_type": "execute_result"
    }
   ],
   "source": [
    "ww.start_worker()"
   ]
  },
  {
   "cell_type": "code",
   "execution_count": 4,
   "id": "6caba030",
   "metadata": {},
   "outputs": [],
   "source": [
    "sp = st.SpiralAboutCenter(r0=0, r1=50, num_revolutions=5)"
   ]
  },
  {
   "cell_type": "code",
   "execution_count": 8,
   "id": "78148f11",
   "metadata": {},
   "outputs": [],
   "source": [
    "msg = {\"msg\":\"t\", \"val\":0}"
   ]
  },
  {
   "cell_type": "code",
   "execution_count": 9,
   "id": "344ba594",
   "metadata": {},
   "outputs": [
    {
     "data": {
      "text/plain": [
       "<coroutine object Worker.add_msg at 0x00000248EC405630>"
      ]
     },
     "execution_count": 9,
     "metadata": {},
     "output_type": "execute_result"
    }
   ],
   "source": [
    "ww.add_msg(msg)"
   ]
  },
  {
   "cell_type": "code",
   "execution_count": 10,
   "id": "aa0872b0",
   "metadata": {},
   "outputs": [
    {
     "data": {
      "text/plain": [
       "<coroutine object Worker.add_PathMaker at 0x00000248EC406400>"
      ]
     },
     "execution_count": 10,
     "metadata": {},
     "output_type": "execute_result"
    }
   ],
   "source": [
    "ww.add_PathMaker(pt)"
   ]
  },
  {
   "cell_type": "code",
   "execution_count": 9,
   "id": "cb6bbf93",
   "metadata": {},
   "outputs": [],
   "source": [
    "test = bytearray(b\"abc\")"
   ]
  },
  {
   "cell_type": "code",
   "execution_count": 10,
   "id": "9bd428e2",
   "metadata": {},
   "outputs": [
    {
     "data": {
      "text/plain": [
       "bytearray(b'abc')"
      ]
     },
     "execution_count": 10,
     "metadata": {},
     "output_type": "execute_result"
    }
   ],
   "source": [
    "test"
   ]
  },
  {
   "cell_type": "code",
   "execution_count": 11,
   "id": "2d556fdf",
   "metadata": {},
   "outputs": [],
   "source": [
    "test[0] = test[1]"
   ]
  },
  {
   "cell_type": "code",
   "execution_count": 14,
   "id": "ea5f70da",
   "metadata": {},
   "outputs": [
    {
     "data": {
      "text/plain": [
       "True"
      ]
     },
     "execution_count": 14,
     "metadata": {},
     "output_type": "execute_result"
    }
   ],
   "source": [
    "test == b\"bbc\""
   ]
  },
  {
   "cell_type": "code",
   "execution_count": 2,
   "id": "ff2772f7",
   "metadata": {},
   "outputs": [],
   "source": [
    "pts = np.array([[10, 20, 30], [5, -10, 30]]).T"
   ]
  },
  {
   "cell_type": "code",
   "execution_count": 3,
   "id": "aa86d472",
   "metadata": {},
   "outputs": [],
   "source": [
    "pm = st.PathMaker(pts, eps=1)"
   ]
  },
  {
   "cell_type": "code",
   "execution_count": 4,
   "id": "e61be837",
   "metadata": {},
   "outputs": [],
   "source": [
    "sp = st.SpiralAboutCenter(r0 = 0, r1 = 240, num_revolutions=25)"
   ]
  },
  {
   "cell_type": "code",
   "execution_count": 5,
   "id": "6cef0f0f",
   "metadata": {},
   "outputs": [],
   "source": [
    "async def add_item(item: st.PathMaker, q: asyncio.Queue):\n",
    "    await q.put(item)\n",
    "\n",
    "async def worker(q: asyncio.Queue):\n",
    "    while True:\n",
    "        try:\n",
    "            pm = await q.get()\n",
    "\n",
    "            for val in pm:\n",
    "                print(val)\n",
    "                await asyncio.sleep(1)\n",
    "            \n",
    "            q.task_done()\n",
    "        except Exception as e:\n",
    "            print(f\"Fail: {e}\")\n",
    "            q.task_done()\n",
    "            \n",
    "\n",
    "def start_background_loop(q: asyncio.Queue):\n",
    "    loop = asyncio.get_event_loop()\n",
    "    if loop.is_running():\n",
    "        asyncio.create_task(worker(q))\n",
    "    else:\n",
    "        loop.create_task(worker(q))"
   ]
  },
  {
   "cell_type": "code",
   "execution_count": 6,
   "id": "c637d456",
   "metadata": {},
   "outputs": [],
   "source": [
    "q = asyncio.Queue()"
   ]
  },
  {
   "cell_type": "code",
   "execution_count": 14,
   "id": "b1bdf394",
   "metadata": {},
   "outputs": [],
   "source": [
    "await add_item(sp, q)"
   ]
  },
  {
   "cell_type": "code",
   "execution_count": 8,
   "id": "d5b89989",
   "metadata": {},
   "outputs": [],
   "source": [
    "await add_item(pm, q)"
   ]
  },
  {
   "cell_type": "code",
   "execution_count": 11,
   "id": "a9df76ae",
   "metadata": {},
   "outputs": [
    {
     "name": "stdout",
     "output_type": "stream",
     "text": [
      "[0 0]\n",
      "[23468  2416]\n",
      "[914   0]\n",
      "[ 955 -803]\n",
      "[1027 -714]\n",
      "[1126 -605]\n",
      "[1244 -499]\n",
      "[1376 -408]\n",
      "[1520 -333]\n",
      "[1671 -274]\n",
      "[1829 -228]\n",
      "[1795  479]\n",
      "[1786  490]\n",
      "[1801  489]\n",
      "[1840  474]\n",
      "[1903  449]\n",
      "[1985  416]\n",
      "[2086  379]\n",
      "[2203  341]\n",
      "[2332  305]\n",
      "[2473  272]\n",
      "[2624  242]\n",
      "[2782  215]\n",
      "[2946  191]\n",
      "[3117  170]\n",
      "[3292  153]\n",
      "[3471  137]\n"
     ]
    }
   ],
   "source": [
    "start_background_loop(q)"
   ]
  },
  {
   "cell_type": "code",
   "execution_count": 13,
   "id": "4c6d1108",
   "metadata": {},
   "outputs": [],
   "source": [
    "a = 55\n",
    "b = a +5"
   ]
  },
  {
   "cell_type": "code",
   "execution_count": 14,
   "id": "a432f119",
   "metadata": {},
   "outputs": [
    {
     "name": "stdout",
     "output_type": "stream",
     "text": [
      "60\n"
     ]
    }
   ],
   "source": [
    "print(b)"
   ]
  },
  {
   "cell_type": "code",
   "execution_count": 12,
   "id": "551469b6",
   "metadata": {},
   "outputs": [
    {
     "data": {
      "text/plain": [
       "True"
      ]
     },
     "execution_count": 12,
     "metadata": {},
     "output_type": "execute_result"
    }
   ],
   "source": [
    "q.empty()"
   ]
  },
  {
   "cell_type": "code",
   "execution_count": 45,
   "id": "5bc2fec0",
   "metadata": {},
   "outputs": [],
   "source": [
    "que.put(pm)"
   ]
  },
  {
   "cell_type": "code",
   "execution_count": null,
   "id": "f8dc8899",
   "metadata": {},
   "outputs": [],
   "source": [
    "item = que.get()\n",
    "que.task_done()"
   ]
  },
  {
   "cell_type": "code",
   "execution_count": null,
   "id": "b13780db",
   "metadata": {},
   "outputs": [
    {
     "data": {
      "text/plain": [
       "<stlib.path_maker.SpiralAboutCenter at 0x290ffa4a7e0>"
      ]
     },
     "execution_count": 59,
     "metadata": {},
     "output_type": "execute_result"
    }
   ],
   "source": [
    "item"
   ]
  },
  {
   "cell_type": "code",
   "execution_count": 25,
   "id": "398a315f",
   "metadata": {},
   "outputs": [],
   "source": [
    "rec = sp.get_plot_points(\"cartesian\", pts_per_rev=12)"
   ]
  },
  {
   "cell_type": "code",
   "execution_count": 26,
   "id": "aaeb30ae",
   "metadata": {},
   "outputs": [
    {
     "data": {
      "text/plain": [
       "[<matplotlib.lines.Line2D at 0x2909b205d30>]"
      ]
     },
     "execution_count": 26,
     "metadata": {},
     "output_type": "execute_result"
    },
    {
     "data": {
      "image/png": "[encoded data removed]",
      "text/plain": [
       "<Figure size 640x480 with 1 Axes>"
      ]
     },
     "metadata": {},
     "output_type": "display_data"
    }
   ],
   "source": [
    "plt.plot(rec[:,0], rec[:,1])"
   ]
  },
  {
   "cell_type": "code",
   "execution_count": 8,
   "id": "e9017959",
   "metadata": {},
   "outputs": [
    {
     "name": "stdout",
     "output_type": "stream",
     "text": [
      "[914   0]\n",
      "[ 955 -803]\n",
      "[1027 -714]\n",
      "[1126 -605]\n",
      "[1244 -499]\n",
      "[1376 -408]\n",
      "[1520 -333]\n",
      "[1671 -274]\n",
      "[1829 -228]\n",
      "[1795  479]\n",
      "[1786  490]\n",
      "[1801  489]\n",
      "[1840  474]\n",
      "[1903  449]\n",
      "[1985  416]\n",
      "[2086  379]\n",
      "[2203  341]\n",
      "[2332  305]\n",
      "[2473  272]\n",
      "[2624  242]\n",
      "[2782  215]\n",
      "[2946  191]\n",
      "[3117  170]\n",
      "[3292  153]\n",
      "[3471  137]\n"
     ]
    }
   ],
   "source": [
    "for val in pm:\n",
    "    print(val)"
   ]
  }
 ],
 "metadata": {
  "kernelspec": {
   "display_name": ".venv",
   "language": "python",
   "name": "python3"
  },
  "language_info": {
   "codemirror_mode": {
    "name": "ipython",
    "version": 3
   },
   "file_extension": ".py",
   "mimetype": "text/x-python",
   "name": "python",
   "nbconvert_exporter": "python",
   "pygments_lexer": "ipython3",
   "version": "3.12.7"
  }
 },
 "nbformat": 4,
 "nbformat_minor": 5
}
