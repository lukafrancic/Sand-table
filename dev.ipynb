{
 "cells": [
  {
   "cell_type": "code",
   "execution_count": 1,
   "id": "60f81356",
   "metadata": {},
   "outputs": [],
   "source": [
    "import stlib as st\n",
    "import numpy as np\n",
    "\n",
    "import matplotlib.pyplot as plt\n"
   ]
  },
  {
   "cell_type": "code",
   "execution_count": null,
   "id": "feb5cbb0",
   "metadata": {},
   "outputs": [],
   "source": [
    "worker = st.Worker(COM=\"COM9\")\n",
    "\n"
   ]
  },
  {
   "cell_type": "code",
   "execution_count": null,
   "id": "e31e2db9",
   "metadata": {},
   "outputs": [],
   "source": [
    "worker.start_worker()"
   ]
  },
  {
   "cell_type": "code",
   "execution_count": null,
   "id": "eb6b26d4",
   "metadata": {},
   "outputs": [],
   "source": [
    "worker.start()\n",
    "worker.home()"
   ]
  },
  {
   "cell_type": "code",
   "execution_count": null,
   "id": "4b9deb96",
   "metadata": {},
   "outputs": [],
   "source": [
    "pt = st.SpiralAboutCenter(10, 249, num_revolutions=20)\n",
    "worker.add_PathMaker(pt)"
   ]
  },
  {
   "cell_type": "code",
   "execution_count": null,
   "id": "1c87538b",
   "metadata": {},
   "outputs": [],
   "source": [
    "pts = st.get_pts_from_svg(\"data/infinity/source.svg\")\n",
    "pts = np.array(pts)\n",
    "pm = st.PathMaker(pts, rot_angle=30, num_iterations=10, eps=4)\n",
    "worker.add_PathMaker(pm)"
   ]
  }
 ],
 "metadata": {
  "kernelspec": {
   "display_name": ".venv (3.12.7)",
   "language": "python",
   "name": "python3"
  },
  "language_info": {
   "codemirror_mode": {
    "name": "ipython",
    "version": 3
   },
   "file_extension": ".py",
   "mimetype": "text/x-python",
   "name": "python",
   "nbconvert_exporter": "python",
   "pygments_lexer": "ipython3",
   "version": "3.12.7"
  }
 },
 "nbformat": 4,
 "nbformat_minor": 5
}
