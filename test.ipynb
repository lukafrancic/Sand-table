{
 "cells": [
  {
   "cell_type": "code",
   "execution_count": 1,
   "id": "c81f2f66",
   "metadata": {},
   "outputs": [],
   "source": [
    "import numpy as np\n",
    "import matplotlib.pyplot as plt\n",
    "\n",
    "import serial\n",
    "import time\n",
    "\n",
    "from serial_com import Communication\n",
    "from path_maker import PathMaker\n",
    "\n",
    "import xml.etree.ElementTree as ET"
   ]
  },
  {
   "cell_type": "code",
   "execution_count": 53,
   "id": "ad2d345a",
   "metadata": {},
   "outputs": [],
   "source": [
    "tree = ET.parse(\"test_image_zajcek.svg\")\n",
    "# tree = ET.parse(\"test_path.svg\")\n",
    "\n",
    "root = tree.getroot()\n",
    "\n",
    "ns = {\"svg\" : \"http://www.w3.org/2000/svg\"}"
   ]
  },
  {
   "cell_type": "code",
   "execution_count": 24,
   "id": "0ff0f0b2",
   "metadata": {},
   "outputs": [],
   "source": [
    "ret"
   ]
  },
  {
   "cell_type": "code",
   "execution_count": 60,
   "id": "dbbc264e",
   "metadata": {},
   "outputs": [],
   "source": [
    "ret = root.findall(\".//svg:path\", ns)"
   ]
  },
  {
   "cell_type": "code",
   "execution_count": 61,
   "id": "31e04263",
   "metadata": {},
   "outputs": [
    {
     "data": {
      "text/plain": [
       "[<Element '{http://www.w3.org/2000/svg}path' at 0x000001F4931AA700>]"
      ]
     },
     "execution_count": 61,
     "metadata": {},
     "output_type": "execute_result"
    }
   ],
   "source": [
    "ret"
   ]
  },
  {
   "cell_type": "code",
   "execution_count": 64,
   "id": "adfe5ed7",
   "metadata": {},
   "outputs": [],
   "source": [
    "temp = ret[0].attrib[\"d\"]"
   ]
  },
  {
   "cell_type": "code",
   "execution_count": 65,
   "id": "acaf0a0a",
   "metadata": {},
   "outputs": [],
   "source": [
    "import re"
   ]
  },
  {
   "cell_type": "code",
   "execution_count": 66,
   "id": "1cfe6265",
   "metadata": {},
   "outputs": [],
   "source": [
    "tokens = re.findall(r'[a-zA-Z]|-?\\d+(?:\\.\\d+)?', temp)"
   ]
  },
  {
   "cell_type": "code",
   "execution_count": 67,
   "id": "64accdbf",
   "metadata": {},
   "outputs": [
    {
     "data": {
      "text/plain": [
       "['m',\n",
       " '26.35976',\n",
       " '-218.42781',\n",
       " 'v',\n",
       " '35.36252',\n",
       " 'l',\n",
       " '-9.34106',\n",
       " '38.69862',\n",
       " '-9.3410504',\n",
       " '32.69365',\n",
       " '-2.668879',\n",
       " '30.02481',\n",
       " '2.00168',\n",
       " '22.68535',\n",
       " '9.3410194',\n",
       " '18.682106',\n",
       " '-20.6837054',\n",
       " '-10.008276',\n",
       " '-26.0214986',\n",
       " '-1.33441',\n",
       " '-29.357549',\n",
       " '6.004947',\n",
       " '-30.02479',\n",
       " '14.011559',\n",
       " '-13.344347',\n",
       " '19.349301',\n",
       " '-14.01156',\n",
       " '22.0181881',\n",
       " 'V',\n",
       " '41.119784',\n",
       " 'l',\n",
       " '2.00164',\n",
       " '-35.3625369',\n",
       " '-6.67216',\n",
       " '-15.346001',\n",
       " '-8.67383',\n",
       " '-9.3410501',\n",
       " '-15.346',\n",
       " '18.01488012',\n",
       " '-6.67218',\n",
       " '30.02476988',\n",
       " '4.67053',\n",
       " '20.683755',\n",
       " '10.67547',\n",
       " '12.009924',\n",
       " '11.3427',\n",
       " '6.672181',\n",
       " '10.67547',\n",
       " '4.0033',\n",
       " '-4.67051',\n",
       " '-10.675481',\n",
       " '10.67548',\n",
       " '25.354247',\n",
       " '13.600136',\n",
       " '17.793088',\n",
       " '18.927181',\n",
       " '9.85266',\n",
       " '26.633264',\n",
       " '5.18214',\n",
       " '22.273967',\n",
       " '3.02484',\n",
       " '27.54554509',\n",
       " '2.04639',\n",
       " '-4.97101809',\n",
       " '-16.55886',\n",
       " '-19.277234',\n",
       " '-20.402298',\n",
       " '-18.944344',\n",
       " '0.668029',\n",
       " '21.483771',\n",
       " '-0.972818',\n",
       " '16.1474066',\n",
       " '-11.308637',\n",
       " '7.33941',\n",
       " '-15.345998',\n",
       " '0.83102',\n",
       " '-5.619242',\n",
       " '-7.117129',\n",
       " '-30.165015',\n",
       " '-18.1201896',\n",
       " '-21.3156919',\n",
       " '-19.63006',\n",
       " '-6.952933',\n",
       " '20.01654',\n",
       " '6.004954',\n",
       " '18.6820596',\n",
       " '25.3542719',\n",
       " '5.337759',\n",
       " '28.690364',\n",
       " '-10.67548',\n",
       " '22.018149',\n",
       " '-12.4553626',\n",
       " '8.183667',\n",
       " '35.008465',\n",
       " '0.0783',\n",
       " '10.898212',\n",
       " '27.813932',\n",
       " '-25.8546738',\n",
       " '0.43969',\n",
       " '25.5317708',\n",
       " '-0.98488',\n",
       " '-11.698714',\n",
       " '-27.769242',\n",
       " '4.29123',\n",
       " '0.245067',\n",
       " '8.773995',\n",
       " '17.803825',\n",
       " '7.094349',\n",
       " '7.50572',\n",
       " '27.134145',\n",
       " '2.71359',\n",
       " '-3.336122',\n",
       " '-28.69036',\n",
       " '5.337757',\n",
       " '-19.349291',\n",
       " '2.66889',\n",
       " '-18.014864',\n",
       " '16.934688',\n",
       " '-20.847006',\n",
       " '4.163039',\n",
       " '38.521535',\n",
       " '0.265158',\n",
       " '19.948307',\n",
       " '3.336771',\n",
       " '17.700769',\n",
       " '-9.37463',\n",
       " '5.79393',\n",
       " '-20.898691',\n",
       " '-3.75607',\n",
       " '-1.765742',\n",
       " '-23.333378',\n",
       " '8.006577',\n",
       " '-34.695296',\n",
       " '15.346016',\n",
       " '-16.680471',\n",
       " '5.337751',\n",
       " '-18.014858',\n",
       " '3.336083',\n",
       " '-32.026421',\n",
       " '24.687044',\n",
       " '-3.33611',\n",
       " '17.34764',\n",
       " '-11.342679',\n",
       " '10.67547',\n",
       " '-14.01157',\n",
       " '-1.33441',\n",
       " '-20.016517',\n",
       " '-14.01157',\n",
       " '-22.01817',\n",
       " '-25.35426',\n",
       " '-19.34931',\n",
       " '-31.359232',\n",
       " '-6.67217',\n",
       " '26.688725',\n",
       " '-18.01488',\n",
       " '15.345977',\n",
       " '-39.36583',\n",
       " '1.33442',\n",
       " '-32.69366',\n",
       " '-8.39741',\n",
       " '-20.79821',\n",
       " '-11.619047',\n",
       " '-7.89214',\n",
       " '-6.672237',\n",
       " '30.02479',\n",
       " '-7.339362',\n",
       " '24.68705',\n",
       " '-8.673826',\n",
       " '10.67547',\n",
       " '-1.334457',\n",
       " '23.35261',\n",
       " '-4.670485',\n",
       " '18.01488',\n",
       " '-9.341057',\n",
       " '15.34598',\n",
       " '14.011542',\n",
       " '-28.02311',\n",
       " '0.667217',\n",
       " '-24.68706',\n",
       " '-6.00495',\n",
       " '-26.02147',\n",
       " '-17.534859',\n",
       " '-19.02151',\n",
       " '-19.71217',\n",
       " '-8.93134']"
      ]
     },
     "execution_count": 67,
     "metadata": {},
     "output_type": "execute_result"
    }
   ],
   "source": [
    "tokens"
   ]
  },
  {
   "cell_type": "code",
   "execution_count": 101,
   "id": "69c0a102",
   "metadata": {},
   "outputs": [],
   "source": [
    "import os\n",
    "\n",
    "def makeitem(size: int = 5) -> str:\n",
    "    return os.urandom(size).hex()"
   ]
  },
  {
   "cell_type": "code",
   "execution_count": 107,
   "id": "1c0d4aba",
   "metadata": {},
   "outputs": [
    {
     "data": {
      "text/plain": [
       "b\"\\xe9'c`\\xd7\""
      ]
     },
     "execution_count": 107,
     "metadata": {},
     "output_type": "execute_result"
    }
   ],
   "source": [
    "os.urandom(5)"
   ]
  },
  {
   "cell_type": "code",
   "execution_count": 106,
   "id": "77795705",
   "metadata": {},
   "outputs": [
    {
     "data": {
      "text/plain": [
       "'b54c326be8'"
      ]
     },
     "execution_count": 106,
     "metadata": {},
     "output_type": "execute_result"
    }
   ],
   "source": [
    "makeitem()"
   ]
  },
  {
   "cell_type": "code",
   "execution_count": 93,
   "id": "becfc3bc",
   "metadata": {},
   "outputs": [],
   "source": [
    "def get_path_from_svg(filename: str) -> list[str] | None:\n",
    "    tree = ET.parse(filename)\n",
    "\n",
    "    root = tree.getroot()\n",
    "\n",
    "    ns = {\"svg\" : \"http://www.w3.org/2000/svg\"}\n",
    "\n",
    "    ret = root.findall(\".//svg:path\", ns)\n",
    "\n",
    "    if ret is None:\n",
    "        print(\"Failed to find any paths\")\n",
    "        return None\n",
    "    \n",
    "    ret_list = []\n",
    "\n",
    "    for path in ret:\n",
    "        d_attr = path.attrib[\"d\"]\n",
    "        ret_list.append(d_attr)    \n",
    "\n",
    "    return ret_list\n",
    "\n",
    "\n",
    "def get_pts_from_svg(filename: str) -> list[np.ndarray]:\n",
    "    path_list = get_path_from_svg(filename)\n",
    "\n",
    "    if path_list is None:\n",
    "        return None\n",
    "    \n",
    "    def next_float():\n",
    "        nonlocal idx\n",
    "        val = float(tokens[idx])\n",
    "        idx += 1\n",
    "        return val\n",
    "    \n",
    "    ret_vals = []\n",
    "\n",
    "    for path in path_list:\n",
    "\n",
    "        # https://www.rexegg.com/regex-quickstart.php\n",
    "        tokens = re.findall(r'[a-zA-Z]|-?\\d+(?:\\.\\d+)?', path)\n",
    "        idx = 0\n",
    "        positions = []\n",
    "        cur_pos = [0, 0]\n",
    "        cmd = None\n",
    "\n",
    "        while idx < len(tokens):\n",
    "            val = tokens[idx]\n",
    "\n",
    "            if re.match(r\"[a-zA-Z]\", val):\n",
    "                cmd = val\n",
    "                idx += 1\n",
    "\n",
    "            match cmd:\n",
    "                case \"m\":\n",
    "                    cur_pos[0] += next_float()\n",
    "                    cur_pos[1] += next_float()\n",
    "                    # the following tokens are treated as relative lineto values\n",
    "                    cmd = \"l\"\n",
    "                    positions.append(cur_pos.copy())\n",
    "                case \"M\":\n",
    "                    cur_pos[0] = next_float()\n",
    "                    cur_pos[1] = next_float()\n",
    "                    # the following tokens are treated as absolute lineto values\n",
    "                    cmd = \"L\"\n",
    "                    positions.append(cur_pos.copy())\n",
    "                case \"l\":\n",
    "                    cur_pos[0] += next_float()\n",
    "                    cur_pos[1] += next_float()\n",
    "                    positions.append(cur_pos.copy())\n",
    "                case \"L\":\n",
    "                    cur_pos[0] = next_float()\n",
    "                    cur_pos[1] = next_float()\n",
    "                    positions.append(cur_pos.copy())\n",
    "                case \"v\":\n",
    "                    cur_pos[1] += next_float()\n",
    "                    positions.append(cur_pos.copy())\n",
    "                case \"V\":\n",
    "                    cur_pos[1] = next_float()\n",
    "                    positions.append(cur_pos.copy())\n",
    "                case \"h\":\n",
    "                    cur_pos[0] += next_float()\n",
    "                    positions.append(cur_pos.copy())\n",
    "                case \"H\":\n",
    "                    cur_pos[0] = next_float()\n",
    "                    positions.append(cur_pos.copy())\n",
    "                case \"z\":\n",
    "                    cur_pos = positions[0]\n",
    "                    positions.append(cur_pos.copy())\n",
    "                case \"Z\":\n",
    "                    cur_pos = positions[0]\n",
    "                    positions.append(cur_pos.copy())\n",
    "                case _:\n",
    "                    print(f\"Received unsupported command {cmd}\")\n",
    "                    break\n",
    "    \n",
    "        if len(positions) != 0:\n",
    "            ret_vals.append(np.array(positions))\n",
    "\n",
    "    \n",
    "    return ret_vals"
   ]
  },
  {
   "cell_type": "code",
   "execution_count": 94,
   "id": "8d84567f",
   "metadata": {},
   "outputs": [],
   "source": [
    "ret = get_path_from_svg(\"test_img.svg\")"
   ]
  },
  {
   "cell_type": "code",
   "execution_count": 88,
   "id": "1f5ca677",
   "metadata": {},
   "outputs": [
    {
     "data": {
      "text/plain": [
       "['m 83.515744,217.05001 20.361846,6.59484 24.93932,-3.31084 15.18043,-18.01336 2.59989,-22.89069 -7.58668,-15.09801 -13.73276,-3.51207 -13.13807,3.37627 -29.298063,2.53446 29.622583,-3.23547 3.51205,-101.392736 -9.43185,5.33131 -16.44979,1.32478 16.25437,-3.17612 12.00415,-5.00796 3.78875,-3.80995 2.12014,-18.6367 -8.63653,-18.377051 -20.658007,-5.02089 -1.665859,21.289341 -2.428984,-0.78948 1.680934,-20.661101 -17.330714,0.51079 -12.347488,11.77782 -4.081699,18.144021 1.309948,12.21681 13.86309,8.26373 16.127899,3.27674 -10.1686,-1.0346 -13.154926,-4.94945 -3.189545,96.755496 19.260078,7.20067 -32.163088,-12.86655 -19.686985,3.63562 -12.340412,21.93028 2.91532,24.48193 16.092557,15.46173 19.13854,2.19502 22.732961,-4.23941']"
      ]
     },
     "execution_count": 88,
     "metadata": {},
     "output_type": "execute_result"
    }
   ],
   "source": [
    "ret"
   ]
  },
  {
   "cell_type": "code",
   "execution_count": 86,
   "id": "aad49fe7",
   "metadata": {},
   "outputs": [
    {
     "data": {
      "text/plain": [
       "array([[ 83.515744, 217.05001 ]])"
      ]
     },
     "execution_count": 86,
     "metadata": {},
     "output_type": "execute_result"
    }
   ],
   "source": [
    "ret[0]"
   ]
  },
  {
   "cell_type": "code",
   "execution_count": 68,
   "id": "f4277d26",
   "metadata": {},
   "outputs": [],
   "source": [
    "test = []\n",
    "\n",
    "pos = [0,0]"
   ]
  },
  {
   "cell_type": "code",
   "execution_count": 71,
   "id": "50f8ffd3",
   "metadata": {},
   "outputs": [],
   "source": [
    "pos[0] += 5\n",
    "pos[1] += 1\n",
    "\n",
    "test.append(pos)"
   ]
  },
  {
   "cell_type": "code",
   "execution_count": 72,
   "id": "9bb5ec1f",
   "metadata": {},
   "outputs": [],
   "source": [
    "pos[0] = 10\n",
    "pos[1] = 15\n",
    "\n",
    "test.append(pos)"
   ]
  },
  {
   "cell_type": "code",
   "execution_count": 73,
   "id": "e20cbd07",
   "metadata": {},
   "outputs": [
    {
     "data": {
      "text/plain": [
       "[[10, 15], [10, 15]]"
      ]
     },
     "execution_count": 73,
     "metadata": {},
     "output_type": "execute_result"
    }
   ],
   "source": [
    "test"
   ]
  },
  {
   "cell_type": "code",
   "execution_count": 2,
   "id": "f52b8cce",
   "metadata": {},
   "outputs": [],
   "source": [
    "import re\n",
    "\n",
    "\n",
    "def parse_svg_path(d):\n",
    "    tokens = re.findall(r'[a-zA-Z]|-?\\d+(?:\\.\\d+)?', d)\n",
    "    idx = 0\n",
    "    points = []\n",
    "    current_pos = [0.0, 0.0]\n",
    "    cmd = None\n",
    "\n",
    "    def next_float():\n",
    "        nonlocal idx\n",
    "        val = float(tokens[idx])\n",
    "        idx += 1\n",
    "        return val\n",
    "\n",
    "    while idx < len(tokens):\n",
    "        token = tokens[idx]\n",
    "\n",
    "        # If token is a letter, update the command\n",
    "        if re.match(r'[a-zA-Z]', token):\n",
    "            cmd = token\n",
    "            idx += 1\n",
    "\n",
    "        if cmd == 'm':\n",
    "            # Relative moveto\n",
    "            dx = next_float()\n",
    "            dy = next_float()\n",
    "            current_pos[0] += dx\n",
    "            current_pos[1] += dy\n",
    "            points.append(current_pos.copy())\n",
    "            cmd = 'l'  # Subsequent pairs are treated as relative lines\n",
    "        elif cmd == 'M':\n",
    "            # Absolute moveto\n",
    "            x = next_float()\n",
    "            y = next_float()\n",
    "            current_pos = [x, y]\n",
    "            points.append(current_pos.copy())\n",
    "            cmd = 'L'  # Subsequent pairs are treated as absolute lines\n",
    "        elif cmd == 'l':\n",
    "            # Relative lineto\n",
    "            dx = next_float()\n",
    "            dy = next_float()\n",
    "            current_pos[0] += dx\n",
    "            current_pos[1] += dy\n",
    "            points.append(current_pos.copy())\n",
    "        elif cmd == 'L':\n",
    "            # Absolute lineto\n",
    "            x = next_float()\n",
    "            y = next_float()\n",
    "            current_pos = [x, y]\n",
    "            points.append(current_pos.copy())\n",
    "        elif cmd == 'v':\n",
    "            # Relative vertical lineto\n",
    "            dy = next_float()\n",
    "            current_pos[1] += dy\n",
    "            points.append(current_pos.copy())\n",
    "        elif cmd == 'V':\n",
    "            # Absolute vertical lineto\n",
    "            y = next_float()\n",
    "            current_pos[1] = y\n",
    "            points.append(current_pos.copy())\n",
    "        elif cmd == 'h':\n",
    "            # Relative horizontal lineto\n",
    "            dx = next_float()\n",
    "            current_pos[0] += dx\n",
    "            points.append(current_pos.copy())\n",
    "        elif cmd == 'H':\n",
    "            # Absolute horizontal lineto\n",
    "            x = next_float()\n",
    "            current_pos[0] = x\n",
    "            points.append(current_pos.copy())\n",
    "        else:\n",
    "            continue\n",
    "            # raise ValueError(f\"Unsupported command: {cmd}\")\n",
    "\n",
    "    return points"
   ]
  },
  {
   "cell_type": "code",
   "execution_count": 3,
   "id": "1081e856",
   "metadata": {},
   "outputs": [],
   "source": [
    "tree = ET.parse(\"test_img_sovica.svg\")\n",
    "# tree = ET.parse(\"test_img_zajcek.svg\")\n",
    "root = tree.getroot()\n",
    "\n",
    "ns = {\"svg\" : \"http://www.w3.org/2000/svg\"}\n",
    "\n",
    "path_element = root.find(\".//svg:path\", ns)\n",
    "\n",
    "if path_element is not None:\n",
    "    d_attr = path_element.attrib[\"d\"]\n",
    "pts = parse_svg_path(d_attr)\n",
    "pts = np.array(pts)"
   ]
  },
  {
   "cell_type": "code",
   "execution_count": 4,
   "id": "e4333582",
   "metadata": {},
   "outputs": [
    {
     "data": {
      "text/plain": [
       "[<matplotlib.lines.Line2D at 0x1f4ff7cf440>]"
      ]
     },
     "execution_count": 4,
     "metadata": {},
     "output_type": "execute_result"
    },
    {
     "data": {
      "image/png": "[encoded data removed]",
      "text/plain": [
       "<Figure size 640x480 with 1 Axes>"
      ]
     },
     "metadata": {},
     "output_type": "display_data"
    }
   ],
   "source": [
    "plt.plot(pts[:,0], pts[:,1]+0)\n",
    "\n",
    "new_pts = pts + [-100, -150]\n",
    "plt.plot(new_pts[:,0], new_pts[:,1]+0)\n"
   ]
  },
  {
   "cell_type": "code",
   "execution_count": 2,
   "id": "1bdab563",
   "metadata": {},
   "outputs": [
    {
     "data": {
      "text/plain": [
       "[<matplotlib.lines.Line2D at 0x233527ff2c0>]"
      ]
     },
     "execution_count": 2,
     "metadata": {},
     "output_type": "execute_result"
    },
    {
     "data": {
      "image/png": "[encoded data removed]",
      "text/plain": [
       "<Figure size 640x480 with 1 Axes>"
      ]
     },
     "metadata": {},
     "output_type": "display_data"
    }
   ],
   "source": [
    "num = 1000\n",
    "RADIUS_STEPS_MM = 81.82 # steps per mm for the radial position\n",
    "ANGLE_STEPS_RAD = 4169.86 # steps per radian of rotation\n",
    "\n",
    "steps_phi = np.zeros(num, dtype=np.int32)\n",
    "\n",
    "r = np.linspace(0, 150, num)\n",
    "phi = np.linspace(0, 20*np.pi, num)\n",
    "\n",
    "steps_r = (r*RADIUS_STEPS_MM).astype(np.int32)\n",
    "steps_phi[0] += (phi[0]*ANGLE_STEPS_RAD).astype(np.int32)\n",
    "steps_phi[1:] += (np.diff(np.unwrap(phi))*ANGLE_STEPS_RAD).astype(np.int32)\n",
    "\n",
    "x = r*np.cos(phi)\n",
    "y = r*np.sin(phi)\n",
    "\n",
    "plt.plot(x, y)\n"
   ]
  },
  {
   "cell_type": "code",
   "execution_count": null,
   "id": "50350c11",
   "metadata": {},
   "outputs": [],
   "source": [
    "def spiral_path_about_center(r0: float = 0, r1: float = 250, num: int = 10, interpolate: bool = False):\n",
    "    \"\"\"\n",
    "    To create a spiral movement we only need to pass 2 points due\n",
    "    to the nature of our system. To feed the values to the Sand table\n",
    "    you must first pass the points to the PathMaker class.\n",
    "\n",
    "    :param r0: what radius to start at\n",
    "    :param r1: what radius to end at\n",
    "    :param num: how many spiral revolutions\n",
    "    :param interpolate: if True returns an array of points that can be plotted\n",
    "    \"\"\"\n",
    "\n",
    "    theta\n",
    "\n"
   ]
  },
  {
   "cell_type": "code",
   "execution_count": 3,
   "id": "0a776cd6",
   "metadata": {},
   "outputs": [],
   "source": [
    "a = 201\n",
    "input_path = np.array([\n",
    "    [a/2, a/2],\n",
    "    [-a/2, a/2],\n",
    "    [-a/2, -a/2],\n",
    "    [a/2, -a/2],\n",
    "    [a/2,a/2]\n",
    "])\n",
    "\n",
    "a = 100\n",
    "input_path = np.array([\n",
    "    [0, 2*a],\n",
    "    [a, a],\n",
    "    [0, 0],\n",
    "    [-a, a],\n",
    "    [0,2*a]\n",
    "])"
   ]
  },
  {
   "cell_type": "code",
   "execution_count": 10,
   "id": "ac27e375",
   "metadata": {},
   "outputs": [],
   "source": [
    "a = 100\n",
    "input_path = np.array([\n",
    "    [0, a],\n",
    "    [-a, -a],\n",
    "    [a, -a],\n",
    "    [0, a]\n",
    "])"
   ]
  },
  {
   "cell_type": "code",
   "execution_count": 5,
   "id": "f6d96fa0",
   "metadata": {},
   "outputs": [],
   "source": [
    "# path = PathMaker(input_path, eps=5, rot_angle=15)\n",
    "path = PathMaker(new_pts, eps=5, rot_angle=0)"
   ]
  },
  {
   "cell_type": "code",
   "execution_count": 6,
   "id": "f9701dd2",
   "metadata": {},
   "outputs": [],
   "source": [
    "com = Communication(\"COM9\", path)"
   ]
  },
  {
   "cell_type": "code",
   "execution_count": 9,
   "id": "7c2a6394",
   "metadata": {},
   "outputs": [
    {
     "data": {
      "text/plain": [
       "3"
      ]
     },
     "execution_count": 9,
     "metadata": {},
     "output_type": "execute_result"
    }
   ],
   "source": [
    "msg = com.HEADER + b\"e\"\n",
    "# com.toggle()\n",
    "com.serial.write(msg)"
   ]
  },
  {
   "cell_type": "code",
   "execution_count": 10,
   "id": "3f9ec1f2",
   "metadata": {},
   "outputs": [
    {
     "data": {
      "text/plain": [
       "3"
      ]
     },
     "execution_count": 10,
     "metadata": {},
     "output_type": "execute_result"
    }
   ],
   "source": [
    "com.serial.in_waiting"
   ]
  },
  {
   "cell_type": "code",
   "execution_count": 19,
   "id": "7fa61576",
   "metadata": {},
   "outputs": [],
   "source": [
    "rec = com.serial.read(3)\n",
    "\n",
    "com.update_pos(next(path))\n"
   ]
  },
  {
   "cell_type": "code",
   "execution_count": 11,
   "id": "6f501b63",
   "metadata": {},
   "outputs": [
    {
     "ename": "SerialException",
     "evalue": "WriteFile failed (PermissionError(13, 'The device does not recognize the command.', None, 22))",
     "output_type": "error",
     "traceback": [
      "\u001b[1;31m---------------------------------------------------------------------------\u001b[0m",
      "\u001b[1;31mSerialException\u001b[0m                           Traceback (most recent call last)",
      "Cell \u001b[1;32mIn[11], line 7\u001b[0m\n\u001b[0;32m      2\u001b[0m     rec \u001b[38;5;241m=\u001b[39m com\u001b[38;5;241m.\u001b[39mserial\u001b[38;5;241m.\u001b[39mread(\u001b[38;5;241m3\u001b[39m)\n\u001b[0;32m      4\u001b[0m     \u001b[38;5;66;03m# print(rec)\u001b[39;00m\n\u001b[0;32m      5\u001b[0m \n\u001b[0;32m      6\u001b[0m     \u001b[38;5;66;03m# com.update_pos((r0, phi0))\u001b[39;00m\n\u001b[1;32m----> 7\u001b[0m     \u001b[43mcom\u001b[49m\u001b[38;5;241;43m.\u001b[39;49m\u001b[43mupdate_pos\u001b[49m\u001b[43m(\u001b[49m\u001b[38;5;28;43mnext\u001b[39;49m\u001b[43m(\u001b[49m\u001b[43mpath\u001b[49m\u001b[43m)\u001b[49m\u001b[43m)\u001b[49m\n\u001b[0;32m      9\u001b[0m     time\u001b[38;5;241m.\u001b[39msleep(\u001b[38;5;241m0.1\u001b[39m)\n\u001b[0;32m     11\u001b[0m \u001b[38;5;66;03m# com.serial.in_waiting\u001b[39;00m\n",
      "File \u001b[1;32mc:\\Users\\lukaf\\Documents\\Dev\\Sand_table\\serial_com.py:57\u001b[0m, in \u001b[0;36mCommunication.update_pos\u001b[1;34m(self, pos)\u001b[0m\n\u001b[0;32m     54\u001b[0m msg \u001b[38;5;241m=\u001b[39m \u001b[38;5;28mself\u001b[39m\u001b[38;5;241m.\u001b[39mHEADER \u001b[38;5;241m+\u001b[39m \u001b[38;5;28mself\u001b[39m\u001b[38;5;241m.\u001b[39mPOSITION_MSG \u001b[38;5;241m+\u001b[39m pos_r \u001b[38;5;241m+\u001b[39m pos_phi\n\u001b[0;32m     56\u001b[0m \u001b[38;5;66;03m# return msg\u001b[39;00m\n\u001b[1;32m---> 57\u001b[0m \u001b[38;5;28;43mself\u001b[39;49m\u001b[38;5;241;43m.\u001b[39;49m\u001b[43mserial\u001b[49m\u001b[38;5;241;43m.\u001b[39;49m\u001b[43mwrite\u001b[49m\u001b[43m(\u001b[49m\u001b[43mmsg\u001b[49m\u001b[43m)\u001b[49m\n",
      "File \u001b[1;32mc:\\Users\\lukaf\\Documents\\Dev\\venv\\Lib\\site-packages\\serial\\serialwin32.py:317\u001b[0m, in \u001b[0;36mSerial.write\u001b[1;34m(self, data)\u001b[0m\n\u001b[0;32m    315\u001b[0m \u001b[38;5;28;01mif\u001b[39;00m \u001b[38;5;28mself\u001b[39m\u001b[38;5;241m.\u001b[39m_write_timeout \u001b[38;5;241m!=\u001b[39m \u001b[38;5;241m0\u001b[39m:  \u001b[38;5;66;03m# if blocking (None) or w/ write timeout (>0)\u001b[39;00m\n\u001b[0;32m    316\u001b[0m     \u001b[38;5;28;01mif\u001b[39;00m \u001b[38;5;129;01mnot\u001b[39;00m success \u001b[38;5;129;01mand\u001b[39;00m win32\u001b[38;5;241m.\u001b[39mGetLastError() \u001b[38;5;129;01mnot\u001b[39;00m \u001b[38;5;129;01min\u001b[39;00m (win32\u001b[38;5;241m.\u001b[39mERROR_SUCCESS, win32\u001b[38;5;241m.\u001b[39mERROR_IO_PENDING):\n\u001b[1;32m--> 317\u001b[0m         \u001b[38;5;28;01mraise\u001b[39;00m SerialException(\u001b[38;5;124m\"\u001b[39m\u001b[38;5;124mWriteFile failed (\u001b[39m\u001b[38;5;132;01m{!r}\u001b[39;00m\u001b[38;5;124m)\u001b[39m\u001b[38;5;124m\"\u001b[39m\u001b[38;5;241m.\u001b[39mformat(ctypes\u001b[38;5;241m.\u001b[39mWinError()))\n\u001b[0;32m    319\u001b[0m     \u001b[38;5;66;03m# Wait for the write to complete.\u001b[39;00m\n\u001b[0;32m    320\u001b[0m     \u001b[38;5;66;03m#~ win32.WaitForSingleObject(self._overlapped_write.hEvent, win32.INFINITE)\u001b[39;00m\n\u001b[0;32m    321\u001b[0m     win32\u001b[38;5;241m.\u001b[39mGetOverlappedResult(\u001b[38;5;28mself\u001b[39m\u001b[38;5;241m.\u001b[39m_port_handle, \u001b[38;5;28mself\u001b[39m\u001b[38;5;241m.\u001b[39m_overlapped_write, ctypes\u001b[38;5;241m.\u001b[39mbyref(n), \u001b[38;5;28;01mTrue\u001b[39;00m)\n",
      "\u001b[1;31mSerialException\u001b[0m: WriteFile failed (PermissionError(13, 'The device does not recognize the command.', None, 22))"
     ]
    }
   ],
   "source": [
    "while True:\n",
    "    rec = com.serial.read(3)\n",
    "\n",
    "    # print(rec)\n",
    "\n",
    "    # com.update_pos((r0, phi0))\n",
    "    com.update_pos(next(path))\n",
    "\n",
    "    time.sleep(0.1)\n",
    "\n",
    "# com.serial.in_waiting"
   ]
  },
  {
   "cell_type": "code",
   "execution_count": null,
   "id": "173918db",
   "metadata": {},
   "outputs": [],
   "source": [
    "\n",
    "for r0, phi0 in zip(steps_r, steps_phi):\n",
    "    rec = com.serial.read(3)\n",
    "\n",
    "    # print(rec)\n",
    "\n",
    "    com.update_pos((r0, phi0))\n",
    "    # com.update_pos(next(path))\n",
    "\n",
    "    time.sleep(0.1)\n",
    "\n",
    "# com.serial.in_waiting"
   ]
  },
  {
   "cell_type": "code",
   "execution_count": 94,
   "id": "e429dbf4",
   "metadata": {},
   "outputs": [],
   "source": [
    "# while\n",
    "\n",
    "\n",
    "com.update_pos(next(path))"
   ]
  },
  {
   "cell_type": "code",
   "execution_count": 116,
   "id": "fead3c20",
   "metadata": {},
   "outputs": [],
   "source": [
    "com.update_pos(next(path))"
   ]
  },
  {
   "cell_type": "code",
   "execution_count": 78,
   "id": "64c65b47",
   "metadata": {},
   "outputs": [
    {
     "data": {
      "text/plain": [
       "133"
      ]
     },
     "execution_count": 78,
     "metadata": {},
     "output_type": "execute_result"
    }
   ],
   "source": [
    "com.serial.in_waiting"
   ]
  },
  {
   "cell_type": "code",
   "execution_count": 12,
   "id": "4116c171",
   "metadata": {},
   "outputs": [],
   "source": [
    "com.toggle()"
   ]
  },
  {
   "cell_type": "code",
   "execution_count": null,
   "id": "e2cabf2d",
   "metadata": {},
   "outputs": [
    {
     "name": "stdout",
     "output_type": "stream",
     "text": [
      "Starting\n"
     ]
    },
    {
     "name": "stdout",
     "output_type": "stream",
     "text": [
      "rec\n",
      "\tupdated\n",
      "rec\n",
      "\tupdated\n",
      "rec\n",
      "\tupdated\n",
      "rec\n",
      "\tupdated\n",
      "rec\n",
      "\tupdated\n",
      "rec\n",
      "\tupdated\n",
      "rec\n",
      "\tupdated\n",
      "rec\n",
      "\tupdated\n",
      "rec\n",
      "\tupdated\n",
      "rec\n",
      "\tupdated\n",
      "rec\n",
      "\tupdated\n",
      "rec\n",
      "\tupdated\n",
      "rec\n",
      "\tupdated\n",
      "rec\n",
      "\tupdated\n",
      "rec\n",
      "\tupdated\n",
      "rec\n",
      "\tupdated\n",
      "rec\n",
      "\tupdated\n",
      "rec\n",
      "\tupdated\n",
      "rec\n",
      "\tupdated\n",
      "rec\n",
      "\tupdated\n",
      "rec\n",
      "\tupdated\n",
      "rec\n",
      "\tupdated\n",
      "rec\n",
      "\tupdated\n",
      "rec\n",
      "\tupdated\n",
      "rec\n",
      "\tupdated\n",
      "rec\n",
      "\tupdated\n",
      "rec\n",
      "\tupdated\n",
      "rec\n",
      "\tupdated\n",
      "rec\n",
      "\tupdated\n",
      "rec\n",
      "\tupdated\n",
      "rec\n",
      "\tupdated\n",
      "rec\n",
      "\tupdated\n",
      "rec\n",
      "\tupdated\n",
      "rec\n",
      "\tupdated\n",
      "rec\n",
      "\tupdated\n",
      "rec\n",
      "\tupdated\n",
      "rec\n",
      "\tupdated\n",
      "rec\n",
      "\tupdated\n",
      "rec\n",
      "\tupdated\n",
      "rec\n",
      "\tupdated\n",
      "rec\n",
      "\tupdated\n",
      "rec\n",
      "\tupdated\n",
      "rec\n",
      "\tupdated\n",
      "rec\n",
      "\tupdated\n",
      "rec\n",
      "\tupdated\n",
      "rec\n",
      "\tupdated\n",
      "rec\n",
      "\tupdated\n",
      "rec\n",
      "\tupdated\n",
      "rec\n",
      "\tupdated\n",
      "rec\n",
      "\tupdated\n",
      "rec\n",
      "\tupdated\n",
      "rec\n",
      "\tupdated\n",
      "rec\n",
      "\tupdated\n",
      "rec\n",
      "\tupdated\n",
      "rec\n",
      "\tupdated\n",
      "rec\n",
      "\tupdated\n",
      "rec\n",
      "\tupdated\n",
      "rec\n",
      "\tupdated\n",
      "rec\n",
      "\tupdated\n",
      "rec\n",
      "\tupdated\n",
      "rec\n",
      "\tupdated\n",
      "rec\n",
      "\tupdated\n",
      "rec\n",
      "\tupdated\n",
      "rec\n",
      "\tupdated\n",
      "rec\n",
      "\tupdated\n",
      "rec\n",
      "\tupdated\n",
      "rec\n",
      "\tupdated\n",
      "rec\n",
      "\tupdated\n",
      "rec\n",
      "\tupdated\n",
      "rec\n",
      "\tupdated\n",
      "rec\n",
      "\tupdated\n",
      "rec\n",
      "\tupdated\n",
      "rec\n",
      "\tupdated\n",
      "rec\n",
      "\tupdated\n",
      "rec\n",
      "\tupdated\n",
      "rec\n",
      "\tupdated\n",
      "rec\n",
      "\tupdated\n",
      "rec\n",
      "\tupdated\n",
      "rec\n",
      "\tupdated\n",
      "rec\n",
      "\tupdated\n",
      "rec\n",
      "\tupdated\n",
      "rec\n",
      "\tupdated\n",
      "rec\n",
      "\tupdated\n",
      "rec\n",
      "\tupdated\n",
      "rec\n",
      "\tupdated\n",
      "rec\n",
      "\tupdated\n",
      "rec\n",
      "\tupdated\n",
      "rec\n",
      "\tupdated\n",
      "rec\n",
      "\tupdated\n",
      "rec\n",
      "\tupdated\n",
      "rec\n",
      "\tupdated\n",
      "rec\n",
      "\tupdated\n",
      "rec\n",
      "\tupdated\n",
      "rec\n",
      "\tupdated\n",
      "rec\n",
      "\tupdated\n",
      "rec\n",
      "\tupdated\n",
      "rec\n",
      "\tupdated\n",
      "rec\n",
      "\tupdated\n",
      "rec\n",
      "\tupdated\n",
      "rec\n",
      "\tupdated\n",
      "rec\n",
      "\tupdated\n",
      "rec\n",
      "\tupdated\n",
      "rec\n",
      "\tupdated\n",
      "rec\n",
      "\tupdated\n",
      "rec\n",
      "\tupdated\n",
      "rec\n",
      "\tupdated\n",
      "rec\n",
      "\tupdated\n",
      "rec\n",
      "\tupdated\n",
      "rec\n",
      "\tupdated\n",
      "rec\n",
      "\tupdated\n",
      "rec\n",
      "\tupdated\n",
      "rec\n",
      "\tupdated\n",
      "rec\n",
      "\tupdated\n",
      "rec\n",
      "\tupdated\n",
      "rec\n",
      "\tupdated\n",
      "rec\n",
      "\tupdated\n",
      "rec\n",
      "\tupdated\n",
      "rec\n",
      "\tupdated\n",
      "rec\n",
      "\tupdated\n",
      "rec\n",
      "\tupdated\n",
      "rec\n",
      "\tupdated\n",
      "rec\n",
      "\tupdated\n",
      "rec\n",
      "\tupdated\n",
      "rec\n",
      "\tupdated\n",
      "rec\n",
      "\tupdated\n",
      "rec\n",
      "\tupdated\n",
      "rec\n",
      "\tupdated\n",
      "rec\n",
      "\tupdated\n",
      "rec\n",
      "\tupdated\n",
      "rec\n",
      "\tupdated\n",
      "rec\n",
      "\tupdated\n",
      "rec\n",
      "\tupdated\n",
      "rec\n",
      "\tupdated\n",
      "rec\n",
      "\tupdated\n",
      "rec\n",
      "\tupdated\n",
      "rec\n",
      "\tupdated\n",
      "rec\n",
      "\tupdated\n",
      "rec\n",
      "\tupdated\n",
      "rec\n",
      "\tupdated\n",
      "rec\n",
      "\tupdated\n",
      "rec\n",
      "\tupdated\n",
      "rec\n",
      "\tupdated\n",
      "rec\n",
      "\tupdated\n",
      "rec\n",
      "\tupdated\n",
      "rec\n",
      "\tupdated\n",
      "rec\n",
      "\tupdated\n",
      "rec\n",
      "\tupdated\n",
      "rec\n",
      "\tupdated\n",
      "rec\n",
      "\tupdated\n",
      "rec\n",
      "\tupdated\n",
      "rec\n",
      "\tupdated\n",
      "rec\n",
      "\tupdated\n",
      "rec\n",
      "\tupdated\n",
      "rec\n",
      "\tupdated\n",
      "rec\n",
      "\tupdated\n",
      "rec\n",
      "\tupdated\n",
      "rec\n",
      "\tupdated\n",
      "rec\n",
      "\tupdated\n",
      "rec\n",
      "\tupdated\n",
      "rec\n",
      "\tupdated\n",
      "rec\n",
      "\tupdated\n",
      "rec\n",
      "\tupdated\n",
      "rec\n",
      "\tupdated\n",
      "rec\n",
      "\tupdated\n",
      "rec\n",
      "\tupdated\n",
      "rec\n",
      "\tupdated\n",
      "rec\n",
      "\tupdated\n",
      "rec\n",
      "\tupdated\n",
      "rec\n",
      "\tupdated\n",
      "rec\n",
      "\tupdated\n",
      "rec\n",
      "\tupdated\n",
      "rec\n",
      "\tupdated\n",
      "rec\n",
      "\tupdated\n",
      "rec\n",
      "\tupdated\n",
      "rec\n",
      "\tupdated\n",
      "rec\n",
      "\tupdated\n",
      "rec\n",
      "\tupdated\n",
      "rec\n",
      "\tupdated\n",
      "rec\n",
      "\tupdated\n",
      "rec\n",
      "\tupdated\n",
      "rec\n",
      "\tupdated\n",
      "rec\n",
      "\tupdated\n",
      "rec\n",
      "\tupdated\n",
      "rec\n",
      "\tupdated\n",
      "rec\n",
      "\tupdated\n",
      "rec\n",
      "\tupdated\n",
      "rec\n",
      "\tupdated\n",
      "rec\n",
      "\tupdated\n",
      "rec\n",
      "\tupdated\n",
      "rec\n",
      "\tupdated\n",
      "rec\n",
      "\tupdated\n",
      "rec\n",
      "\tupdated\n",
      "rec\n",
      "\tupdated\n",
      "rec\n",
      "\tupdated\n",
      "rec\n",
      "\tupdated\n",
      "rec\n",
      "\tupdated\n",
      "rec\n",
      "\tupdated\n",
      "rec\n",
      "\tupdated\n",
      "rec\n",
      "\tupdated\n",
      "rec\n",
      "\tupdated\n",
      "rec\n",
      "\tupdated\n",
      "rec\n",
      "\tupdated\n",
      "rec\n",
      "\tupdated\n",
      "rec\n",
      "\tupdated\n",
      "rec\n",
      "\tupdated\n",
      "rec\n",
      "\tupdated\n",
      "rec\n",
      "\tupdated\n",
      "rec\n",
      "\tupdated\n",
      "rec\n",
      "\tupdated\n",
      "rec\n",
      "\tupdated\n",
      "rec\n",
      "\tupdated\n",
      "rec\n",
      "\tupdated\n",
      "rec\n",
      "\tupdated\n",
      "rec\n",
      "\tupdated\n",
      "rec\n",
      "\tupdated\n",
      "rec\n",
      "\tupdated\n",
      "rec\n",
      "\tupdated\n",
      "rec\n",
      "\tupdated\n",
      "rec\n",
      "\tupdated\n",
      "rec\n",
      "\tupdated\n",
      "rec\n",
      "\tupdated\n",
      "rec\n",
      "\tupdated\n",
      "rec\n",
      "\tupdated\n",
      "rec\n",
      "\tupdated\n",
      "rec\n",
      "\tupdated\n",
      "rec\n",
      "\tupdated\n",
      "rec\n",
      "\tupdated\n",
      "rec\n",
      "\tupdated\n",
      "rec\n",
      "\tupdated\n",
      "rec\n",
      "\tupdated\n",
      "rec\n",
      "\tupdated\n",
      "rec\n",
      "\tupdated\n",
      "rec\n",
      "\tupdated\n",
      "rec\n",
      "\tupdated\n",
      "rec\n",
      "\tupdated\n",
      "rec\n",
      "\tupdated\n",
      "rec\n",
      "\tupdated\n",
      "rec\n",
      "\tupdated\n",
      "rec\n",
      "\tupdated\n",
      "rec\n",
      "\tupdated\n",
      "rec\n",
      "\tupdated\n",
      "rec\n",
      "\tupdated\n",
      "rec\n",
      "\tupdated\n",
      "rec\n",
      "\tupdated\n",
      "rec\n",
      "\tupdated\n",
      "rec\n",
      "\tupdated\n",
      "rec\n",
      "\tupdated\n",
      "rec\n",
      "\tupdated\n",
      "rec\n",
      "\tupdated\n",
      "rec\n",
      "\tupdated\n",
      "rec\n",
      "\tupdated\n",
      "rec\n",
      "\tupdated\n",
      "rec\n",
      "\tupdated\n",
      "rec\n",
      "\tupdated\n",
      "rec\n",
      "\tupdated\n",
      "rec\n",
      "\tupdated\n",
      "rec\n",
      "\tupdated\n",
      "rec\n",
      "\tupdated\n",
      "rec\n",
      "\tupdated\n",
      "rec\n",
      "\tupdated\n",
      "rec\n",
      "\tupdated\n",
      "rec\n",
      "\tupdated\n",
      "rec\n",
      "\tupdated\n",
      "rec\n",
      "\tupdated\n",
      "rec\n",
      "\tupdated\n",
      "rec\n",
      "\tupdated\n",
      "rec\n",
      "\tupdated\n",
      "rec\n",
      "\tupdated\n",
      "rec\n",
      "\tupdated\n",
      "rec\n",
      "\tupdated\n",
      "rec\n",
      "\tupdated\n",
      "rec\n",
      "\tupdated\n",
      "rec\n",
      "\tupdated\n",
      "rec\n",
      "\tupdated\n",
      "rec\n",
      "\tupdated\n",
      "rec\n",
      "\tupdated\n",
      "rec\n",
      "\tupdated\n",
      "rec\n",
      "\tupdated\n",
      "rec\n",
      "\tupdated\n",
      "rec\n",
      "\tupdated\n",
      "rec\n",
      "\tupdated\n",
      "rec\n",
      "\tupdated\n",
      "rec\n",
      "\tupdated\n",
      "rec\n",
      "\tupdated\n",
      "rec\n",
      "\tupdated\n",
      "rec\n",
      "\tupdated\n",
      "rec\n",
      "\tupdated\n",
      "rec\n",
      "\tupdated\n",
      "rec\n",
      "\tupdated\n",
      "rec\n",
      "\tupdated\n",
      "rec\n",
      "\tupdated\n",
      "rec\n",
      "\tupdated\n",
      "rec\n",
      "\tupdated\n",
      "rec\n",
      "\tupdated\n",
      "rec\n",
      "\tupdated\n",
      "rec\n",
      "\tupdated\n",
      "rec\n",
      "\tupdated\n",
      "rec\n",
      "\tupdated\n",
      "rec\n",
      "\tupdated\n",
      "rec\n",
      "\tupdated\n",
      "rec\n",
      "\tupdated\n",
      "rec\n",
      "\tupdated\n",
      "rec\n",
      "\tupdated\n",
      "rec\n",
      "\tupdated\n",
      "rec\n",
      "\tupdated\n",
      "rec\n",
      "\tupdated\n",
      "rec\n",
      "\tupdated\n",
      "rec\n",
      "\tupdated\n",
      "rec\n",
      "\tupdated\n",
      "rec\n",
      "\tupdated\n",
      "rec\n",
      "\tupdated\n",
      "rec\n",
      "\tupdated\n",
      "rec\n",
      "\tupdated\n",
      "rec\n",
      "\tupdated\n",
      "rec\n",
      "\tupdated\n",
      "rec\n",
      "\tupdated\n",
      "rec\n",
      "\tupdated\n",
      "rec\n",
      "\tupdated\n",
      "rec\n",
      "\tupdated\n",
      "rec\n",
      "\tupdated\n",
      "rec\n",
      "\tupdated\n",
      "rec\n",
      "\tupdated\n",
      "rec\n",
      "\tupdated\n",
      "rec\n",
      "\tupdated\n",
      "rec\n",
      "\tupdated\n",
      "rec\n",
      "\tupdated\n",
      "rec\n",
      "\tupdated\n",
      "rec\n",
      "\tupdated\n",
      "rec\n",
      "\tupdated\n",
      "rec\n",
      "\tupdated\n",
      "rec\n",
      "\tupdated\n",
      "rec\n",
      "\tupdated\n",
      "rec\n",
      "\tupdated\n",
      "rec\n",
      "\tupdated\n"
     ]
    }
   ],
   "source": [
    "com.begin()"
   ]
  },
  {
   "cell_type": "code",
   "execution_count": 22,
   "id": "7ed4dbd9",
   "metadata": {},
   "outputs": [],
   "source": [
    "com.serial.flushInput()"
   ]
  },
  {
   "cell_type": "code",
   "execution_count": 16,
   "id": "3f9f9cd7",
   "metadata": {},
   "outputs": [],
   "source": [
    "pt = next(path)\n",
    "com.update_pos(pt)"
   ]
  },
  {
   "cell_type": "code",
   "execution_count": 23,
   "id": "cabd8fb5",
   "metadata": {},
   "outputs": [
    {
     "data": {
      "text/plain": [
       "True"
      ]
     },
     "execution_count": 23,
     "metadata": {},
     "output_type": "execute_result"
    }
   ],
   "source": [
    "isinstance(pt[0], (int, np.int32))"
   ]
  },
  {
   "cell_type": "code",
   "execution_count": null,
   "id": "81cb4863",
   "metadata": {},
   "outputs": [],
   "source": [
    "# com.toggle()\n",
    "\n",
    "while True:\n",
    "    # if com.serial.in_waiting > 0:\n",
    "    rec = com.serial.read()\n",
    "\n",
    "    # if rec == com.FINISH_MOVE:\n",
    "    pos = next(com.path_maker)\n",
    "    com.update_pos(pos)\n",
    "\n",
    "    com.serial.flushInput()\n",
    "\n",
    "    time.sleep(0.1)"
   ]
  },
  {
   "cell_type": "code",
   "execution_count": 23,
   "id": "618188f5",
   "metadata": {},
   "outputs": [
    {
     "data": {
      "text/plain": [
       "True"
      ]
     },
     "execution_count": 23,
     "metadata": {},
     "output_type": "execute_result"
    }
   ],
   "source": [
    "rec == com.FINISH_MOVE"
   ]
  },
  {
   "cell_type": "code",
   "execution_count": 25,
   "id": "38668226",
   "metadata": {},
   "outputs": [],
   "source": [
    "pos\n",
    "com.update_pos(pos)"
   ]
  },
  {
   "cell_type": "code",
   "execution_count": 22,
   "id": "797bb20c",
   "metadata": {},
   "outputs": [
    {
     "data": {
      "text/plain": [
       "b'f'"
      ]
     },
     "execution_count": 22,
     "metadata": {},
     "output_type": "execute_result"
    }
   ],
   "source": [
    "rec"
   ]
  },
  {
   "cell_type": "code",
   "execution_count": 13,
   "id": "254c3e3c",
   "metadata": {},
   "outputs": [],
   "source": [
    "com.toggle()"
   ]
  },
  {
   "cell_type": "code",
   "execution_count": 26,
   "id": "3260d3d5",
   "metadata": {},
   "outputs": [
    {
     "data": {
      "text/plain": [
       "59"
      ]
     },
     "execution_count": 26,
     "metadata": {},
     "output_type": "execute_result"
    }
   ],
   "source": [
    "com.serial.in_waiting"
   ]
  },
  {
   "cell_type": "code",
   "execution_count": 18,
   "id": "eb16c9f3",
   "metadata": {},
   "outputs": [
    {
     "data": {
      "text/plain": [
       "array([10594,   152], dtype=int32)"
      ]
     },
     "execution_count": 18,
     "metadata": {},
     "output_type": "execute_result"
    }
   ],
   "source": [
    "pt = next(path)\n",
    "pt"
   ]
  },
  {
   "cell_type": "code",
   "execution_count": 11,
   "id": "b15d1a53",
   "metadata": {},
   "outputs": [
    {
     "data": {
      "text/plain": [
       "0"
      ]
     },
     "execution_count": 11,
     "metadata": {},
     "output_type": "execute_result"
    }
   ],
   "source": [
    "com.serial.inWaiting()"
   ]
  },
  {
   "cell_type": "code",
   "execution_count": null,
   "id": "9f722e04",
   "metadata": {},
   "outputs": [],
   "source": [
    "rec = com.serial.read()"
   ]
  },
  {
   "cell_type": "code",
   "execution_count": 9,
   "id": "ce12fc41",
   "metadata": {},
   "outputs": [],
   "source": [
    "com.toggle()"
   ]
  },
  {
   "cell_type": "code",
   "execution_count": 5,
   "id": "f9771e6d",
   "metadata": {},
   "outputs": [],
   "source": [
    "com.begin()"
   ]
  },
  {
   "cell_type": "code",
   "execution_count": 6,
   "id": "a6491e71",
   "metadata": {},
   "outputs": [],
   "source": [
    "size = 200\n",
    "out = np.zeros((size,2))\n",
    "\n",
    "for i in range(size):\n",
    "    ret = next(path)\n",
    "    out[i] += ret"
   ]
  },
  {
   "cell_type": "code",
   "execution_count": 8,
   "id": "f5ca01d4",
   "metadata": {},
   "outputs": [],
   "source": [
    "x = out[:,0]*np.cos(out[:,1])\n",
    "y = out[:,0]*np.sin(out[:,1])"
   ]
  },
  {
   "cell_type": "code",
   "execution_count": 11,
   "id": "5993702d",
   "metadata": {},
   "outputs": [
    {
     "data": {
      "text/plain": [
       "[<matplotlib.lines.Line2D at 0x2545bd94230>]"
      ]
     },
     "execution_count": 11,
     "metadata": {},
     "output_type": "execute_result"
    }
   ],
   "source": [
    "%matplotlib qt\n",
    "plt.plot(x, y, '.')"
   ]
  },
  {
   "cell_type": "code",
   "execution_count": 38,
   "id": "e4ed62aa",
   "metadata": {},
   "outputs": [],
   "source": [
    "pts = path.positions"
   ]
  },
  {
   "cell_type": "code",
   "execution_count": 39,
   "id": "5bb6af92",
   "metadata": {},
   "outputs": [
    {
     "data": {
      "text/plain": [
       "(97, 2)"
      ]
     },
     "execution_count": 39,
     "metadata": {},
     "output_type": "execute_result"
    }
   ],
   "source": [
    "pts.shape"
   ]
  },
  {
   "cell_type": "code",
   "execution_count": 6,
   "id": "b2a3685d",
   "metadata": {},
   "outputs": [],
   "source": [
    "com = Communication(\"COM9\")"
   ]
  },
  {
   "cell_type": "code",
   "execution_count": 23,
   "id": "dbd32d32",
   "metadata": {},
   "outputs": [
    {
     "data": {
      "text/plain": [
       "511"
      ]
     },
     "execution_count": 23,
     "metadata": {},
     "output_type": "execute_result"
    }
   ],
   "source": [
    "com.serial.in_waiting"
   ]
  },
  {
   "cell_type": "code",
   "execution_count": 27,
   "id": "d3c1838a",
   "metadata": {},
   "outputs": [
    {
     "data": {
      "text/plain": [
       "0"
      ]
     },
     "execution_count": 27,
     "metadata": {},
     "output_type": "execute_result"
    }
   ],
   "source": [
    "com.serial.flushInput()\n",
    "\n",
    "com.serial.in_waiting"
   ]
  },
  {
   "cell_type": "code",
   "execution_count": 24,
   "id": "85ea1a6b",
   "metadata": {},
   "outputs": [
    {
     "data": {
      "text/plain": [
       "5"
      ]
     },
     "execution_count": 24,
     "metadata": {},
     "output_type": "execute_result"
    }
   ],
   "source": [
    "com.serial.flushInput()\n",
    "msg = com.update_speed(1000)\n",
    "\n",
    "com.serial.write(msg)"
   ]
  },
  {
   "cell_type": "code",
   "execution_count": 42,
   "id": "49ef3585",
   "metadata": {},
   "outputs": [
    {
     "name": "stdout",
     "output_type": "stream",
     "text": [
      "b'abc\\x00\\x003}\\x00\\x00\\x00\\x00'\n",
      "b'abc\\x00\\x001\\x82\\x00\\x00\\x00\\x8a'\n",
      "b'abc\\x00\\x00/\\x91\\x00\\x00\\x00\\x9e'\n",
      "b'abc\\x00\\x00-\\xab\\x00\\x00\\x00\\xb5'\n",
      "b'abc\\x00\\x00+\\xd5\\x00\\x00\\x00\\xd1'\n",
      "b'abc\\x00\\x00*\\x10\\x00\\x00\\x00\\xf3'\n",
      "b'abc\\x00\\x00(b\\x00\\x00\\x01\\x1b'\n",
      "b'abc\\x00\\x00&\\xd2\\x00\\x00\\x01K'\n",
      "b'abc\\x00\\x00%e\\x00\\x00\\x01\\x82'\n",
      "b\"abc\\x00\\x00$'\\x00\\x00\\x01\\xc1\"\n",
      "b'abc\\x00\\x00#!\\x00\\x00\\x02\\x02'\n",
      "b'abc\\x00\\x00\"a\\x00\\x00\\x02@'\n",
      "b'abc\\x00\\x00!\\xef\\x00\\x00\\x02p'\n",
      "b'abc\\x00\\x00!\\xd4\\x00\\x00\\x02\\x88'\n",
      "b'abc\\x00\\x00\"\\x12\\x00\\x00\\x02\\x82'\n",
      "b'abc\\x00\\x00\"\\xa5\\x00\\x00\\x02_'\n",
      "b'abc\\x00\\x00#\\x82\\x00\\x00\\x02('\n",
      "b'abc\\x00\\x00$\\xa0\\x00\\x00\\x01\\xe8'\n",
      "b'abc\\x00\\x00%\\xf2\\x00\\x00\\x01\\xa7'\n",
      "b\"abc\\x00\\x00'n\\x00\\x00\\x01k\"\n",
      "b'abc\\x00\\x00)\\x0b\\x00\\x00\\x017'\n",
      "b'abc\\x00\\x00*\\xc3\\x00\\x00\\x01\\n'\n",
      "b'abc\\x00\\x00,\\x8f\\x00\\x00\\x00\\xe5'\n",
      "b'abc\\x00\\x00.l\\x00\\x00\\x00\\xc5'\n",
      "b'abc\\x00\\x000W\\x00\\x00\\x00\\xab'\n",
      "b'abc\\x00\\x002L\\x00\\x00\\x00\\x96'\n",
      "b'abc\\x00\\x004K\\x00\\x00\\x00\\x84'\n",
      "b'abc\\x00\\x006Q\\x00\\x00\\x00t'\n",
      "b'abc\\x00\\x008]\\x00\\x00\\x00g'\n",
      "b'abc\\x00\\x00:n\\x00\\x00\\x00\\\\'\n",
      "b'abc\\x00\\x00<\\x84\\x00\\x00\\x00S'\n",
      "b'abc\\x00\\x00>\\x9e\\x00\\x00\\x00K'\n",
      "b'abc\\x00\\x00@\\xbb\\x00\\x00\\x00D'\n",
      "b'abc\\x00\\x00?W\\x00\\x00\\x00\\x86'\n",
      "b'abc\\x00\\x00=\\xff\\x00\\x00\\x00\\x8f'\n",
      "b'abc\\x00\\x00<\\xb6\\x00\\x00\\x00\\x98'\n",
      "b'abc\\x00\\x00;{\\x00\\x00\\x00\\xa1'\n",
      "b'abc\\x00\\x00:Q\\x00\\x00\\x00\\xab'\n",
      "b'abc\\x00\\x0098\\x00\\x00\\x00\\xb6'\n",
      "b'abc\\x00\\x0083\\x00\\x00\\x00\\xc0'\n",
      "b'abc\\x00\\x007C\\x00\\x00\\x00\\xcb'\n",
      "b'abc\\x00\\x006j\\x00\\x00\\x00\\xd5'\n",
      "b'abc\\x00\\x005\\xaa\\x00\\x00\\x00\\xdf'\n",
      "b'abc\\x00\\x005\\x04\\x00\\x00\\x00\\xe9'\n",
      "b'abc\\x00\\x004y\\x00\\x00\\x00\\xf1'\n",
      "b'abc\\x00\\x004\\x0c\\x00\\x00\\x00\\xf8'\n",
      "b'abc\\x00\\x003\\xbd\\x00\\x00\\x00\\xfe'\n",
      "b'abc\\x00\\x003\\x8d\\x00\\x00\\x01\\x02'\n",
      "b'abc\\x00\\x003}\\x00\\x00\\x01\\x04'\n",
      "b'abc\\x00\\x003\\x8d\\x00\\x00\\x01\\x04'\n",
      "b'abc\\x00\\x003\\xbd\\x00\\x00\\x01\\x02'\n",
      "b'abc\\x00\\x004\\x0c\\x00\\x00\\x00\\xfe'\n",
      "b'abc\\x00\\x004y\\x00\\x00\\x00\\xf8'\n",
      "b'abc\\x00\\x005\\x04\\x00\\x00\\x00\\xf1'\n",
      "b'abc\\x00\\x005\\xaa\\x00\\x00\\x00\\xe9'\n",
      "b'abc\\x00\\x006j\\x00\\x00\\x00\\xdf'\n",
      "b'abc\\x00\\x007C\\x00\\x00\\x00\\xd5'\n",
      "b'abc\\x00\\x0083\\x00\\x00\\x00\\xcb'\n",
      "b'abc\\x00\\x0098\\x00\\x00\\x00\\xc0'\n",
      "b'abc\\x00\\x00:Q\\x00\\x00\\x00\\xb6'\n",
      "b'abc\\x00\\x00;{\\x00\\x00\\x00\\xab'\n",
      "b'abc\\x00\\x00<\\xb6\\x00\\x00\\x00\\xa1'\n",
      "b'abc\\x00\\x00=\\xff\\x00\\x00\\x00\\x98'\n",
      "b'abc\\x00\\x00?W\\x00\\x00\\x00\\x8f'\n",
      "b'abc\\x00\\x00@\\xbb\\x00\\x00\\x00\\x86'\n",
      "b'abc\\x00\\x00>\\x9e\\x00\\x00\\x00D'\n",
      "b'abc\\x00\\x00<\\x84\\x00\\x00\\x00K'\n",
      "b'abc\\x00\\x00:n\\x00\\x00\\x00S'\n",
      "b'abc\\x00\\x008]\\x00\\x00\\x00\\\\'\n",
      "b'abc\\x00\\x006Q\\x00\\x00\\x00g'\n",
      "b'abc\\x00\\x004K\\x00\\x00\\x00t'\n",
      "b'abc\\x00\\x002L\\x00\\x00\\x00\\x84'\n",
      "b'abc\\x00\\x000W\\x00\\x00\\x00\\x96'\n",
      "b'abc\\x00\\x00.l\\x00\\x00\\x00\\xab'\n",
      "b'abc\\x00\\x00,\\x8f\\x00\\x00\\x00\\xc5'\n",
      "b'abc\\x00\\x00*\\xc3\\x00\\x00\\x00\\xe5'\n",
      "b'abc\\x00\\x00)\\x0b\\x00\\x00\\x01\\n'\n",
      "b\"abc\\x00\\x00'n\\x00\\x00\\x017\"\n",
      "b'abc\\x00\\x00%\\xf2\\x00\\x00\\x01k'\n",
      "b'abc\\x00\\x00$\\xa0\\x00\\x00\\x01\\xa7'\n",
      "b'abc\\x00\\x00#\\x82\\x00\\x00\\x01\\xe8'\n",
      "b'abc\\x00\\x00\"\\xa5\\x00\\x00\\x02('\n",
      "b'abc\\x00\\x00\"\\x12\\x00\\x00\\x02_'\n",
      "b'abc\\x00\\x00!\\xd4\\x00\\x00\\x02\\x82'\n",
      "b'abc\\x00\\x00!\\xef\\x00\\x00\\x02\\x88'\n",
      "b'abc\\x00\\x00\"a\\x00\\x00\\x02p'\n",
      "b'abc\\x00\\x00#!\\x00\\x00\\x02@'\n",
      "b\"abc\\x00\\x00$'\\x00\\x00\\x02\\x02\"\n",
      "b'abc\\x00\\x00%e\\x00\\x00\\x01\\xc1'\n",
      "b'abc\\x00\\x00&\\xd2\\x00\\x00\\x01\\x82'\n",
      "b'abc\\x00\\x00(b\\x00\\x00\\x01K'\n",
      "b'abc\\x00\\x00*\\x10\\x00\\x00\\x01\\x1b'\n",
      "b'abc\\x00\\x00+\\xd5\\x00\\x00\\x00\\xf3'\n",
      "b'abc\\x00\\x00-\\xab\\x00\\x00\\x00\\xd1'\n",
      "b'abc\\x00\\x00/\\x91\\x00\\x00\\x00\\xb5'\n",
      "b'abc\\x00\\x001\\x82\\x00\\x00\\x00\\x9e'\n",
      "b'abc\\x00\\x003}\\x00\\x00\\x00\\x8a'\n"
     ]
    }
   ],
   "source": [
    "\n",
    "for i, pt in enumerate(pts):\n",
    "\n",
    "    rec = com.serial.read()\n",
    "    com.serial.flushInput()\n",
    "\n",
    "    msg = com.update_pos([int(pt[0]+5000), int(pt[1])])\n",
    "    print(msg)\n",
    "    com.serial.write(msg)\n",
    "\n",
    "    time.sleep(0.1)\n",
    "    # com.wait_for_response()\n",
    "# time.sleep(1)\n",
    "\n",
    "# rec = com.serial.readline()\n",
    "# print(rec)"
   ]
  },
  {
   "cell_type": "code",
   "execution_count": 40,
   "id": "76d7b39b",
   "metadata": {},
   "outputs": [
    {
     "data": {
      "text/plain": [
       "342"
      ]
     },
     "execution_count": 40,
     "metadata": {},
     "output_type": "execute_result"
    }
   ],
   "source": [
    "com.serial.inWaiting()"
   ]
  },
  {
   "cell_type": "code",
   "execution_count": 10,
   "id": "db3a07a6",
   "metadata": {},
   "outputs": [
    {
     "data": {
      "text/plain": [
       "b'f'"
      ]
     },
     "execution_count": 10,
     "metadata": {},
     "output_type": "execute_result"
    }
   ],
   "source": [
    "rec = com.serial.read(1)\n",
    "rec"
   ]
  },
  {
   "cell_type": "code",
   "execution_count": 8,
   "id": "4e72f18c",
   "metadata": {},
   "outputs": [
    {
     "data": {
      "text/plain": [
       "102"
      ]
     },
     "execution_count": 8,
     "metadata": {},
     "output_type": "execute_result"
    }
   ],
   "source": [
    "ord(\"f\")"
   ]
  },
  {
   "cell_type": "code",
   "execution_count": 12,
   "id": "8410a3c2",
   "metadata": {},
   "outputs": [
    {
     "data": {
      "text/plain": [
       "b'7'"
      ]
     },
     "execution_count": 12,
     "metadata": {},
     "output_type": "execute_result"
    }
   ],
   "source": [
    "rec = com.serial.read()\n",
    "rec"
   ]
  },
  {
   "cell_type": "code",
   "execution_count": 12,
   "id": "52200a94",
   "metadata": {},
   "outputs": [
    {
     "data": {
      "text/plain": [
       "99"
      ]
     },
     "execution_count": 12,
     "metadata": {},
     "output_type": "execute_result"
    }
   ],
   "source": [
    "ord(\"c\")"
   ]
  },
  {
   "cell_type": "code",
   "execution_count": null,
   "id": "4223e429",
   "metadata": {},
   "outputs": [],
   "source": [
    "979899"
   ]
  },
  {
   "cell_type": "code",
   "execution_count": 7,
   "id": "d34e7c7a",
   "metadata": {},
   "outputs": [
    {
     "data": {
      "text/plain": [
       "b'97989958430\\r\\n'"
      ]
     },
     "execution_count": 7,
     "metadata": {},
     "output_type": "execute_result"
    }
   ],
   "source": [
    "rec"
   ]
  },
  {
   "cell_type": "code",
   "execution_count": 4,
   "id": "6f0304fb",
   "metadata": {},
   "outputs": [
    {
     "data": {
      "image/png": "[encoded data removed]",
      "text/plain": [
       "<Figure size 640x480 with 1 Axes>"
      ]
     },
     "metadata": {},
     "output_type": "display_data"
    }
   ],
   "source": [
    "fig, ax = plt.subplots(subplot_kw={'projection': 'polar'})\n",
    "ax.plot(path.pts_polar[:,1], path.pts_polar[:,0])\n",
    "# ax.set_rmax(2)\n",
    "# ax.set_rticks([0.5, 1, 1.5, 2])  # Less radial ticks\n",
    "# ax.set_rlabel_position(-22.5)  # Move radial labels away from plotted line\n",
    "ax.grid(True)\n",
    "\n",
    "plt.show()\n"
   ]
  },
  {
   "cell_type": "code",
   "execution_count": 8,
   "id": "13bd731c",
   "metadata": {},
   "outputs": [
    {
     "data": {
      "text/plain": [
       "array([    0,   277,   591,   945,  1340,  1777,  2251,  2753,  3271,\n",
       "        3789,  4291,  4765,  5202,  5597,  5951,  6265,  6542,  6819,\n",
       "        7133,  7487,  7882,  8319,  8793,  9295,  9813, 10331, 10833,\n",
       "       11307, 11744, 12139, 12493, 12807, 13084, 13361, 13675, 14029,\n",
       "       14424, 14861, 15335, 15837, 16355, 16873, 17375, 17849, 18286,\n",
       "       18681, 19035, 19349, 19626, 19903, 20217, 20571, 20966, 21403,\n",
       "       21877, 22379, 22897, 23415, 23917, 24391, 24828, 25223, 25577,\n",
       "       25891, 26168])"
      ]
     },
     "execution_count": 8,
     "metadata": {},
     "output_type": "execute_result"
    }
   ],
   "source": [
    "np.cumsum(path.positions[:,1])"
   ]
  },
  {
   "cell_type": "code",
   "execution_count": 46,
   "id": "e4b902d2",
   "metadata": {},
   "outputs": [],
   "source": [
    "from path_maker import _calc_trajectory, _calc_triag"
   ]
  },
  {
   "cell_type": "code",
   "execution_count": 47,
   "id": "655359ea",
   "metadata": {},
   "outputs": [],
   "source": [
    "pt0 = [-a/2, a/2]\n",
    "pt1 = [-a/2, -a/2]\n",
    "\n",
    "x0, y0 = pt0\n",
    "x1, y1 = pt1\n",
    "r0, phi0 = np.sqrt(x0**2+y0**2), np.atan2(y0, x0)\n",
    "r1, phi1 = np.sqrt(x1**2+y1**2), np.atan2(y1, x1)\n",
    "\n",
    "r01 = (r0+r1)/2\n",
    "phi01 = (phi0+phi1)/2\n",
    "x01p, y01p = r01*np.cos(phi01), r01*np.sin(phi01)\n",
    "\n",
    "A = _calc_triag((x0, y0), (x01p, y01p), (x1, y1))\n",
    "\n",
    "x01, y01 = (x0+x1)/2, (y0+y1)/2"
   ]
  },
  {
   "cell_type": "code",
   "execution_count": 56,
   "id": "824f0d85",
   "metadata": {},
   "outputs": [
    {
     "data": {
      "text/plain": [
       "(np.float64(71.4177848998413), np.float64(0.0))"
      ]
     },
     "execution_count": 56,
     "metadata": {},
     "output_type": "execute_result"
    }
   ],
   "source": [
    "x01p, y01p"
   ]
  },
  {
   "cell_type": "code",
   "execution_count": 49,
   "id": "89de6fab",
   "metadata": {},
   "outputs": [
    {
     "data": {
      "text/plain": [
       "(-50.5, 0.0)"
      ]
     },
     "execution_count": 49,
     "metadata": {},
     "output_type": "execute_result"
    }
   ],
   "source": [
    "x01, y01"
   ]
  },
  {
   "cell_type": "code",
   "execution_count": null,
   "id": "0f4890f5",
   "metadata": {},
   "outputs": [],
   "source": [
    "def _calc_trajectory2(pt0, pt1, eps: float = 5) -> list[list[float]]:\n",
    "    \"\"\"\n",
    "    Calculate the minimal required steps to make a straight line on the sand\n",
    "    table based on the desired accuracy.\n",
    "\n",
    "    :param pt0: tuple of (x0, y0)\n",
    "    :param pt1: tuple of (x1, y1)\n",
    "    :param eps: desired accurary. Calculated as triangle area between three\n",
    "        points, where the three points are the start and end of the line and\n",
    "        the middle arc point.\n",
    "\n",
    "    :return: list of positions with shape [n, 2]\n",
    "    \"\"\"\n",
    "    x0, y0 = pt0\n",
    "    x1, y1 = pt1\n",
    "    r0, phi0 = np.sqrt(x0**2+y0**2), np.atan2(y0, x0)\n",
    "    r1, phi1 = np.sqrt(x1**2+y1**2), np.atan2(y1, x1)\n",
    "\n",
    "    # dosezemo, da so vsi koti vedno pozitivni -> tako ne more priti do tezav pri iskanju srednjega kota    \n",
    "    if phi0 < 0:\n",
    "        phi0 += 2*np.pi\n",
    "    if phi1 < 0:\n",
    "        phi1 += 2*np.pi\n",
    "\n",
    "\n",
    "    r01 = (r0+r1)/2\n",
    "    phi01 = (phi0+phi1)/2\n",
    "    x01p, y01p = r01*np.cos(phi01), r01*np.sin(phi01)\n",
    "\n",
    "    A = _calc_triag((x0, y0), (x01p, y01p), (x1, y1))\n",
    "\n",
    "    x01, y01 = (x0+x1)/2, (y0+y1)/2\n",
    "    vals = np.array([x0, y0, x1, y1, A, r01, phi01, x01p, y01p])\n",
    "    for val in vals:\n",
    "        print(f\"{val:#.3f}\\t\", end=\"\")\n",
    "    print(\"\\n\")\n",
    "    \n",
    "    if A > eps:\n",
    "        new_seg0 = _calc_trajectory2(pt0, (x01, y01), eps)\n",
    "        new_seg1 = _calc_trajectory2((x01, y01), pt1, eps)\n",
    "\n",
    "        ret_list = [*new_seg0, *new_seg1[1:]]\n",
    "\n",
    "    else:\n",
    "        ret_list = [pt0, (x01, y01), pt1]\n",
    "\n",
    "    return ret_list"
   ]
  },
  {
   "cell_type": "code",
   "execution_count": 72,
   "id": "14071c1d",
   "metadata": {},
   "outputs": [],
   "source": [
    "x0, y0 = -50.500, 0.000\t\n",
    "x1, y1 = -50.500, -50.500"
   ]
  },
  {
   "cell_type": "code",
   "execution_count": 78,
   "id": "a7932866",
   "metadata": {},
   "outputs": [],
   "source": [
    "r0, phi0 = np.sqrt(x0**2+y0**2), np.atan2(y0, x0)\n",
    "r1, phi1 = np.sqrt(x1**2+y1**2), np.atan2(y1, x1)\n",
    "\n",
    "if phi0 < 0:\n",
    "    phi0 += 2*np.pi\n",
    "if phi1 < 0:\n",
    "    phi1 += 2*np.pi\n",
    "\n",
    "r01 = (r0+r1)/2\n",
    "phi01 = (phi0+phi1)/2\n",
    "x01p, y01p = r01*np.cos(phi01), r01*np.sin(phi01)"
   ]
  },
  {
   "cell_type": "code",
   "execution_count": null,
   "id": "f791f01c",
   "metadata": {},
   "outputs": [],
   "source": [
    "vals = np.array([x0, y0, x1, y1, A, r01, phi01, x01p, y01p])\n",
    "-50.500\t0.000\t-50.500\t-50.500\t2697.171\t60.959\t0.393\t56.319\t23.328"
   ]
  },
  {
   "cell_type": "code",
   "execution_count": 71,
   "id": "f3decd2f",
   "metadata": {},
   "outputs": [
    {
     "data": {
      "text/plain": [
       "146.44999999999993"
      ]
     },
     "execution_count": 71,
     "metadata": {},
     "output_type": "execute_result"
    }
   ],
   "source": [
    "_calc_triag([-50.5, 0], [-50.5, -50.5], [-56.3, -23.3])"
   ]
  },
  {
   "cell_type": "code",
   "execution_count": 83,
   "id": "0b9c069b",
   "metadata": {},
   "outputs": [
    {
     "name": "stdout",
     "output_type": "stream",
     "text": [
      "-50.500\t50.500\t-50.500\t-50.500\t1056.348\t71.418\t3.142\t-71.418\t0.000\t\n",
      "\n",
      "-50.500\t50.500\t-50.500\t0.000\t146.921\t60.959\t2.749\t-56.319\t23.328\t\n",
      "\n",
      "-50.500\t50.500\t-50.500\t25.250\t17.299\t63.939\t2.517\t-51.870\t37.386\t\n",
      "\n",
      "-50.500\t50.500\t-50.500\t37.875\t2.023\t67.271\t2.427\t-50.820\t44.076\t\n",
      "\n",
      "-50.500\t37.875\t-50.500\t25.250\t2.290\t59.793\t2.588\t-50.863\t31.435\t\n",
      "\n",
      "-50.500\t25.250\t-50.500\t0.000\t19.565\t53.480\t2.910\t-52.050\t12.287\t\n",
      "\n",
      "-50.500\t25.250\t-50.500\t12.625\t2.445\t54.257\t2.787\t-50.887\t18.824\t\n",
      "\n",
      "-50.500\t12.625\t-50.500\t0.000\t2.480\t51.277\t3.019\t-50.893\t6.265\t\n",
      "\n",
      "-50.500\t0.000\t-50.500\t-50.500\t146.921\t60.959\t3.534\t-56.319\t-23.328\t\n",
      "\n",
      "-50.500\t0.000\t-50.500\t-25.250\t19.565\t53.480\t3.373\t-52.050\t-12.287\t\n",
      "\n",
      "-50.500\t0.000\t-50.500\t-12.625\t2.480\t51.277\t3.264\t-50.893\t-6.265\t\n",
      "\n",
      "-50.500\t-12.625\t-50.500\t-25.250\t2.445\t54.257\t3.496\t-50.887\t-18.824\t\n",
      "\n",
      "-50.500\t-25.250\t-50.500\t-50.500\t17.299\t63.939\t3.766\t-51.870\t-37.386\t\n",
      "\n",
      "-50.500\t-25.250\t-50.500\t-37.875\t2.290\t59.793\t3.695\t-50.863\t-31.435\t\n",
      "\n",
      "-50.500\t-37.875\t-50.500\t-50.500\t2.023\t67.271\t3.856\t-50.820\t-44.076\t\n",
      "\n"
     ]
    }
   ],
   "source": [
    "ret = _calc_trajectory2([-a/2, a/2], [-a/2, -a/2])"
   ]
  },
  {
   "cell_type": "code",
   "execution_count": 84,
   "id": "ea9f2ca9",
   "metadata": {},
   "outputs": [
    {
     "data": {
      "text/plain": [
       "[[-50.5, 50.5],\n",
       " (-50.5, 44.1875),\n",
       " (-50.5, 37.875),\n",
       " (-50.5, 31.5625),\n",
       " (-50.5, 25.25),\n",
       " (-50.5, 18.9375),\n",
       " (-50.5, 12.625),\n",
       " (-50.5, 6.3125),\n",
       " (-50.5, 0.0),\n",
       " (-50.5, -6.3125),\n",
       " (-50.5, -12.625),\n",
       " (-50.5, -18.9375),\n",
       " (-50.5, -25.25),\n",
       " (-50.5, -31.5625),\n",
       " (-50.5, -37.875),\n",
       " (-50.5, -44.1875),\n",
       " [-50.5, -50.5]]"
      ]
     },
     "execution_count": 84,
     "metadata": {},
     "output_type": "execute_result"
    }
   ],
   "source": [
    "ret"
   ]
  },
  {
   "cell_type": "code",
   "execution_count": 8,
   "id": "4f79e4e1",
   "metadata": {},
   "outputs": [
    {
     "data": {
      "text/plain": [
       "array([ 7.85398163e-01,  8.51966327e-01,  9.27295218e-01,  1.01219701e+00,\n",
       "        1.10714872e+00,  1.21202566e+00,  1.32581766e+00,  1.44644133e+00,\n",
       "        1.57079633e+00,  1.69515132e+00,  1.81577499e+00,  1.92956700e+00,\n",
       "        2.03444394e+00,  2.12939564e+00,  2.21429744e+00,  2.28962633e+00,\n",
       "        2.35619449e+00,  2.42276265e+00,  2.49809154e+00,  2.58299334e+00,\n",
       "        2.67794504e+00,  2.78282198e+00,  2.89661399e+00,  3.01723766e+00,\n",
       "        3.14159265e+00, -3.01723766e+00, -2.89661399e+00, -2.78282198e+00,\n",
       "       -2.67794504e+00, -2.58299334e+00, -2.49809154e+00, -2.42276265e+00,\n",
       "       -2.35619449e+00, -2.28962633e+00, -2.21429744e+00, -2.12939564e+00,\n",
       "       -2.03444394e+00, -1.92956700e+00, -1.81577499e+00, -1.69515132e+00,\n",
       "       -1.57079633e+00, -1.44644133e+00, -1.32581766e+00, -1.21202566e+00,\n",
       "       -1.10714872e+00, -1.01219701e+00, -9.27295218e-01, -8.51966327e-01,\n",
       "       -7.85398163e-01, -7.18830000e-01, -6.43501109e-01, -5.58599315e-01,\n",
       "       -4.63647609e-01, -3.58770670e-01, -2.44978663e-01, -1.85347950e-01,\n",
       "       -1.24354995e-01, -9.34767812e-02, -6.24188100e-02, -4.68407129e-02,\n",
       "       -3.12398334e-02, -2.34332099e-02, -1.56237286e-02, -1.17182136e-02,\n",
       "       -7.81234106e-03, -5.85930795e-03, -3.90623013e-03, -1.95312252e-03,\n",
       "        0.00000000e+00,  1.24354995e-01,  2.44978663e-01,  3.58770670e-01,\n",
       "        4.63647609e-01,  5.58599315e-01,  6.43501109e-01,  7.18830000e-01,\n",
       "        7.85398163e-01])"
      ]
     },
     "execution_count": 8,
     "metadata": {},
     "output_type": "execute_result"
    }
   ],
   "source": [
    "path.pts_polar[:,1]"
   ]
  },
  {
   "cell_type": "code",
   "execution_count": 5,
   "id": "7f98cc7f",
   "metadata": {},
   "outputs": [
    {
     "data": {
      "text/plain": [
       "[<matplotlib.lines.Line2D at 0x252a72e4950>]"
      ]
     },
     "execution_count": 5,
     "metadata": {},
     "output_type": "execute_result"
    },
    {
     "data": {
      "image/png": "[encoded data removed]",
      "text/plain": [
       "<Figure size 640x480 with 1 Axes>"
      ]
     },
     "metadata": {},
     "output_type": "display_data"
    }
   ],
   "source": [
    "plt.plot(path.pts_polar[:,1])"
   ]
  },
  {
   "cell_type": "code",
   "execution_count": 6,
   "id": "5503e569",
   "metadata": {},
   "outputs": [
    {
     "data": {
      "text/plain": [
       "[<matplotlib.lines.Line2D at 0x252aa400b60>]"
      ]
     },
     "execution_count": 6,
     "metadata": {},
     "output_type": "execute_result"
    },
    {
     "data": {
      "image/png": "[encoded data removed]",
      "text/plain": [
       "<Figure size 640x480 with 1 Axes>"
      ]
     },
     "metadata": {},
     "output_type": "display_data"
    }
   ],
   "source": [
    "plt.plot(path.pts_polar[:,0])"
   ]
  },
  {
   "cell_type": "code",
   "execution_count": 11,
   "id": "a76a3927",
   "metadata": {},
   "outputs": [
    {
     "data": {
      "text/plain": [
       "array([ 0.78539816,  0.85196633,  0.92729522,  1.01219701,  1.10714872,\n",
       "        1.21202566,  1.32581766,  1.44644133,  1.57079633,  1.69515132,\n",
       "        1.81577499,  1.929567  ,  2.03444394,  2.12939564,  2.21429744,\n",
       "        2.28962633,  2.35619449,  2.42276265,  2.49809154,  2.58299334,\n",
       "        2.67794504,  2.78282198,  2.89661399,  3.01723766,  3.14159265,\n",
       "       -3.01723766, -2.89661399, -2.78282198, -2.67794504, -2.58299334,\n",
       "       -2.49809154, -2.42276265, -2.35619449, -2.28962633, -2.21429744,\n",
       "       -2.12939564, -2.03444394, -1.929567  , -1.81577499, -1.69515132,\n",
       "       -1.57079633, -1.44644133, -1.32581766, -1.21202566, -1.10714872,\n",
       "       -1.01219701, -0.92729522, -0.85196633, -0.78539816, -0.71883   ,\n",
       "       -0.64350111, -0.55859932, -0.46364761, -0.35877067, -0.24497866,\n",
       "       -0.12435499,  0.        ,  0.12435499,  0.24497866,  0.35877067,\n",
       "        0.46364761,  0.55859932,  0.64350111,  0.71883   ,  0.78539816])"
      ]
     },
     "execution_count": 11,
     "metadata": {},
     "output_type": "execute_result"
    }
   ],
   "source": [
    "path.pts_polar[:,1]"
   ]
  },
  {
   "cell_type": "code",
   "execution_count": 12,
   "id": "d239e345",
   "metadata": {},
   "outputs": [
    {
     "data": {
      "text/plain": [
       "4169.859509007658"
      ]
     },
     "execution_count": 12,
     "metadata": {},
     "output_type": "execute_result"
    }
   ],
   "source": [
    "26200/(2*np.pi)"
   ]
  },
  {
   "cell_type": "code",
   "execution_count": 7,
   "id": "47a26b8c",
   "metadata": {},
   "outputs": [
    {
     "data": {
      "text/plain": [
       "(65, 2)"
      ]
     },
     "execution_count": 7,
     "metadata": {},
     "output_type": "execute_result"
    }
   ],
   "source": [
    "path.positions.shape"
   ]
  },
  {
   "cell_type": "code",
   "execution_count": 8,
   "id": "e354f68f",
   "metadata": {},
   "outputs": [
    {
     "data": {
      "text/plain": [
       "np.int32(-80680)"
      ]
     },
     "execution_count": 8,
     "metadata": {},
     "output_type": "execute_result"
    }
   ],
   "source": [
    "np.min(path.positions[:,1])"
   ]
  },
  {
   "cell_type": "code",
   "execution_count": 13,
   "id": "d9557d1d",
   "metadata": {},
   "outputs": [
    {
     "ename": "SerialException",
     "evalue": "could not open port 'COM9': FileNotFoundError(2, 'The system cannot find the file specified.', None, 2)",
     "output_type": "error",
     "traceback": [
      "\u001b[1;31m---------------------------------------------------------------------------\u001b[0m",
      "\u001b[1;31mSerialException\u001b[0m                           Traceback (most recent call last)",
      "Cell \u001b[1;32mIn[13], line 1\u001b[0m\n\u001b[1;32m----> 1\u001b[0m ser \u001b[38;5;241m=\u001b[39m \u001b[43mserial\u001b[49m\u001b[38;5;241;43m.\u001b[39;49m\u001b[43mSerial\u001b[49m\u001b[43m(\u001b[49m\u001b[38;5;124;43m\"\u001b[39;49m\u001b[38;5;124;43mCOM9\u001b[39;49m\u001b[38;5;124;43m\"\u001b[39;49m\u001b[43m,\u001b[49m\u001b[43m \u001b[49m\u001b[38;5;241;43m115200\u001b[39;49m\u001b[43m)\u001b[49m\n",
      "File \u001b[1;32mc:\\Users\\lukaf\\Documents\\Dev\\venv\\Lib\\site-packages\\serial\\serialwin32.py:33\u001b[0m, in \u001b[0;36mSerial.__init__\u001b[1;34m(self, *args, **kwargs)\u001b[0m\n\u001b[0;32m     31\u001b[0m \u001b[38;5;28mself\u001b[39m\u001b[38;5;241m.\u001b[39m_overlapped_read \u001b[38;5;241m=\u001b[39m \u001b[38;5;28;01mNone\u001b[39;00m\n\u001b[0;32m     32\u001b[0m \u001b[38;5;28mself\u001b[39m\u001b[38;5;241m.\u001b[39m_overlapped_write \u001b[38;5;241m=\u001b[39m \u001b[38;5;28;01mNone\u001b[39;00m\n\u001b[1;32m---> 33\u001b[0m \u001b[38;5;28;43msuper\u001b[39;49m\u001b[43m(\u001b[49m\u001b[43mSerial\u001b[49m\u001b[43m,\u001b[49m\u001b[43m \u001b[49m\u001b[38;5;28;43mself\u001b[39;49m\u001b[43m)\u001b[49m\u001b[38;5;241;43m.\u001b[39;49m\u001b[38;5;21;43m__init__\u001b[39;49m\u001b[43m(\u001b[49m\u001b[38;5;241;43m*\u001b[39;49m\u001b[43margs\u001b[49m\u001b[43m,\u001b[49m\u001b[43m \u001b[49m\u001b[38;5;241;43m*\u001b[39;49m\u001b[38;5;241;43m*\u001b[39;49m\u001b[43mkwargs\u001b[49m\u001b[43m)\u001b[49m\n",
      "File \u001b[1;32mc:\\Users\\lukaf\\Documents\\Dev\\venv\\Lib\\site-packages\\serial\\serialutil.py:244\u001b[0m, in \u001b[0;36mSerialBase.__init__\u001b[1;34m(self, port, baudrate, bytesize, parity, stopbits, timeout, xonxoff, rtscts, write_timeout, dsrdtr, inter_byte_timeout, exclusive, **kwargs)\u001b[0m\n\u001b[0;32m    241\u001b[0m     \u001b[38;5;28;01mraise\u001b[39;00m \u001b[38;5;167;01mValueError\u001b[39;00m(\u001b[38;5;124m'\u001b[39m\u001b[38;5;124munexpected keyword arguments: \u001b[39m\u001b[38;5;132;01m{!r}\u001b[39;00m\u001b[38;5;124m'\u001b[39m\u001b[38;5;241m.\u001b[39mformat(kwargs))\n\u001b[0;32m    243\u001b[0m \u001b[38;5;28;01mif\u001b[39;00m port \u001b[38;5;129;01mis\u001b[39;00m \u001b[38;5;129;01mnot\u001b[39;00m \u001b[38;5;28;01mNone\u001b[39;00m:\n\u001b[1;32m--> 244\u001b[0m     \u001b[38;5;28;43mself\u001b[39;49m\u001b[38;5;241;43m.\u001b[39;49m\u001b[43mopen\u001b[49m\u001b[43m(\u001b[49m\u001b[43m)\u001b[49m\n",
      "File \u001b[1;32mc:\\Users\\lukaf\\Documents\\Dev\\venv\\Lib\\site-packages\\serial\\serialwin32.py:64\u001b[0m, in \u001b[0;36mSerial.open\u001b[1;34m(self)\u001b[0m\n\u001b[0;32m     62\u001b[0m \u001b[38;5;28;01mif\u001b[39;00m \u001b[38;5;28mself\u001b[39m\u001b[38;5;241m.\u001b[39m_port_handle \u001b[38;5;241m==\u001b[39m win32\u001b[38;5;241m.\u001b[39mINVALID_HANDLE_VALUE:\n\u001b[0;32m     63\u001b[0m     \u001b[38;5;28mself\u001b[39m\u001b[38;5;241m.\u001b[39m_port_handle \u001b[38;5;241m=\u001b[39m \u001b[38;5;28;01mNone\u001b[39;00m    \u001b[38;5;66;03m# 'cause __del__ is called anyway\u001b[39;00m\n\u001b[1;32m---> 64\u001b[0m     \u001b[38;5;28;01mraise\u001b[39;00m SerialException(\u001b[38;5;124m\"\u001b[39m\u001b[38;5;124mcould not open port \u001b[39m\u001b[38;5;132;01m{!r}\u001b[39;00m\u001b[38;5;124m: \u001b[39m\u001b[38;5;132;01m{!r}\u001b[39;00m\u001b[38;5;124m\"\u001b[39m\u001b[38;5;241m.\u001b[39mformat(\u001b[38;5;28mself\u001b[39m\u001b[38;5;241m.\u001b[39mportstr, ctypes\u001b[38;5;241m.\u001b[39mWinError()))\n\u001b[0;32m     66\u001b[0m \u001b[38;5;28;01mtry\u001b[39;00m:\n\u001b[0;32m     67\u001b[0m     \u001b[38;5;28mself\u001b[39m\u001b[38;5;241m.\u001b[39m_overlapped_read \u001b[38;5;241m=\u001b[39m win32\u001b[38;5;241m.\u001b[39mOVERLAPPED()\n",
      "\u001b[1;31mSerialException\u001b[0m: could not open port 'COM9': FileNotFoundError(2, 'The system cannot find the file specified.', None, 2)"
     ]
    }
   ],
   "source": [
    "ser = serial.Serial(\"COM9\", 115200)"
   ]
  },
  {
   "cell_type": "code",
   "execution_count": 142,
   "id": "a45cc9fd",
   "metadata": {},
   "outputs": [
    {
     "name": "stdout",
     "output_type": "stream",
     "text": [
      "b'Received\\r\\nMoved to pos\\r\\n'\n"
     ]
    }
   ],
   "source": [
    "ser.write(b\"22500, 26200, 11\")\n",
    "\n",
    "time.sleep(0.5)\n",
    "\n",
    "rec = ser.read_all()\n",
    "print(rec)"
   ]
  },
  {
   "cell_type": "code",
   "execution_count": 143,
   "id": "a395b2b4",
   "metadata": {},
   "outputs": [],
   "source": [
    "ser.close()"
   ]
  },
  {
   "cell_type": "code",
   "execution_count": 144,
   "id": "caa00330",
   "metadata": {},
   "outputs": [],
   "source": [
    "temp = b\"0x6162\""
   ]
  },
  {
   "cell_type": "code",
   "execution_count": 157,
   "id": "d1c12c00",
   "metadata": {},
   "outputs": [
    {
     "ename": "TypeError",
     "evalue": "chr() takes exactly one argument (0 given)",
     "output_type": "error",
     "traceback": [
      "\u001b[1;31m---------------------------------------------------------------------------\u001b[0m",
      "\u001b[1;31mTypeError\u001b[0m                                 Traceback (most recent call last)",
      "Cell \u001b[1;32mIn[157], line 1\u001b[0m\n\u001b[1;32m----> 1\u001b[0m \u001b[38;5;28;43mchr\u001b[39;49m\u001b[43m(\u001b[49m\u001b[43m)\u001b[49m\n",
      "\u001b[1;31mTypeError\u001b[0m: chr() takes exactly one argument (0 given)"
     ]
    }
   ],
   "source": [
    "chr()"
   ]
  },
  {
   "cell_type": "code",
   "execution_count": 163,
   "id": "f0ca338f",
   "metadata": {},
   "outputs": [
    {
     "data": {
      "text/plain": [
       "'0x66'"
      ]
     },
     "execution_count": 163,
     "metadata": {},
     "output_type": "execute_result"
    }
   ],
   "source": [
    "hex(ord(\"f\"))"
   ]
  },
  {
   "cell_type": "code",
   "execution_count": 145,
   "id": "33b08e8e",
   "metadata": {},
   "outputs": [
    {
     "data": {
      "text/plain": [
       "'0x6162'"
      ]
     },
     "execution_count": 145,
     "metadata": {},
     "output_type": "execute_result"
    }
   ],
   "source": [
    "temp.decode(\"utf-8\")"
   ]
  },
  {
   "cell_type": "code",
   "execution_count": null,
   "id": "27593a7e",
   "metadata": {},
   "outputs": [
    {
     "data": {
      "text/plain": [
       "b'11, 500, 500'"
      ]
     },
     "execution_count": 132,
     "metadata": {},
     "output_type": "execute_result"
    }
   ],
   "source": [
    "b\"500, 500, 11\""
   ]
  },
  {
   "cell_type": "code",
   "execution_count": null,
   "id": "72f43ba6",
   "metadata": {},
   "outputs": [],
   "source": [
    "\"ab\""
   ]
  },
  {
   "cell_type": "code",
   "execution_count": 131,
   "id": "c77ae825",
   "metadata": {},
   "outputs": [
    {
     "name": "stdout",
     "output_type": "stream",
     "text": [
      "b'False input\\r\\n'\n"
     ]
    }
   ],
   "source": [
    "\n",
    "rec = ser.read_all()\n",
    "print(rec)"
   ]
  },
  {
   "cell_type": "code",
   "execution_count": 66,
   "id": "a906c851",
   "metadata": {},
   "outputs": [],
   "source": [
    "a = 50\n",
    "path = np.array([\n",
    "    [0, a],\n",
    "    [a/2,0],\n",
    "    [-a,1],\n",
    "    [0,a]\n",
    "])"
   ]
  },
  {
   "cell_type": "code",
   "execution_count": 67,
   "id": "345f8465",
   "metadata": {},
   "outputs": [],
   "source": [
    "x = path[:,0]\n",
    "y = path[:,1]\n",
    "\n",
    "r = np.sqrt(x**2+y**2)\n",
    "phi = np.atan2(y,x)\n",
    "\n",
    "path_pol = np.vstack((r, phi)).T"
   ]
  },
  {
   "cell_type": "code",
   "execution_count": 123,
   "id": "288cf614",
   "metadata": {},
   "outputs": [
    {
     "data": {
      "text/plain": [
       "array([[  0.,  50.],\n",
       "       [ 25.,   0.],\n",
       "       [-50.,   1.],\n",
       "       [  0.,  50.],\n",
       "       [  0.,  50.],\n",
       "       [ 25.,   0.],\n",
       "       [-50.,   1.],\n",
       "       [  0.,  50.]])"
      ]
     },
     "execution_count": 123,
     "metadata": {},
     "output_type": "execute_result"
    }
   ],
   "source": [
    "np.vstack((path, path))"
   ]
  },
  {
   "cell_type": "code",
   "execution_count": 5,
   "id": "90b15d7c",
   "metadata": {},
   "outputs": [],
   "source": [
    "test = np.array([0,5,6,6,3,6,6,2,6,7])"
   ]
  },
  {
   "cell_type": "code",
   "execution_count": 19,
   "id": "296e1a2a",
   "metadata": {},
   "outputs": [
    {
     "data": {
      "text/plain": [
       "np.False_"
      ]
     },
     "execution_count": 19,
     "metadata": {},
     "output_type": "execute_result"
    }
   ],
   "source": [
    "np.all(test < 7)"
   ]
  },
  {
   "cell_type": "code",
   "execution_count": 26,
   "id": "31a8a728",
   "metadata": {},
   "outputs": [
    {
     "data": {
      "text/plain": [
       "False"
      ]
     },
     "execution_count": 26,
     "metadata": {},
     "output_type": "execute_result"
    }
   ],
   "source": [
    "True is np.all(test < 10)"
   ]
  },
  {
   "cell_type": "code",
   "execution_count": 68,
   "id": "b486ee6d",
   "metadata": {},
   "outputs": [],
   "source": [
    "x2 = r*np.cos(phi)\n",
    "y2 = r*np.sin(phi)"
   ]
  },
  {
   "cell_type": "code",
   "execution_count": 69,
   "id": "788e565a",
   "metadata": {},
   "outputs": [],
   "source": [
    "def interpolate_path(pt0: tuple, pt1:tuple, num=100):\n",
    "    x0, y0 = pt0\n",
    "    x1, y1 = pt1\n",
    "\n",
    "    xi = np.linspace(x0, x1, num)\n",
    "    yi = np.linspace(y0, y1, num)\n",
    "\n",
    "    return xi, yi"
   ]
  },
  {
   "cell_type": "code",
   "execution_count": 70,
   "id": "488028b7",
   "metadata": {},
   "outputs": [],
   "source": [
    "px, py = interpolate_path(path_pol[0], path_pol[1])"
   ]
  },
  {
   "cell_type": "code",
   "execution_count": 58,
   "id": "78b5c3ca",
   "metadata": {},
   "outputs": [],
   "source": [
    "x2 = px*np.cos(py)\n",
    "y2 = px*np.sin(py)"
   ]
  },
  {
   "cell_type": "code",
   "execution_count": 59,
   "id": "7aa9d906",
   "metadata": {},
   "outputs": [
    {
     "data": {
      "text/plain": [
       "array([[50.        ,  1.57079633],\n",
       "       [25.        ,  0.        ],\n",
       "       [50.009999  , -3.12159532],\n",
       "       [50.        ,  1.57079633]])"
      ]
     },
     "execution_count": 59,
     "metadata": {},
     "output_type": "execute_result"
    }
   ],
   "source": [
    "path_pol"
   ]
  },
  {
   "cell_type": "code",
   "execution_count": 72,
   "id": "02a1e431",
   "metadata": {},
   "outputs": [
    {
     "data": {
      "text/plain": [
       "array([1.57079633, 0.        , 3.12159532, 1.57079633])"
      ]
     },
     "execution_count": 72,
     "metadata": {},
     "output_type": "execute_result"
    }
   ],
   "source": [
    "np.unwrap(path_pol[:,1], discont=np.pi/2)"
   ]
  },
  {
   "cell_type": "code",
   "execution_count": 64,
   "id": "4febb275",
   "metadata": {},
   "outputs": [],
   "source": [
    "path_pol[:, 1] = np.unwrap(path_pol[:,1], discont=np.pi/2)"
   ]
  },
  {
   "cell_type": "code",
   "execution_count": 71,
   "id": "273c50c9",
   "metadata": {},
   "outputs": [
    {
     "data": {
      "image/png": "[encoded data removed]",
      "text/plain": [
       "<Figure size 640x480 with 1 Axes>"
      ]
     },
     "metadata": {},
     "output_type": "display_data"
    }
   ],
   "source": [
    "plt.plot(x, y)\n",
    "\n",
    "for i in range(path_pol.shape[0]-1):\n",
    "    ri, phii = interpolate_path(path_pol[i], path_pol[i+1])\n",
    "\n",
    "    xi = ri*np.cos(phii)\n",
    "    yi = ri*np.sin(phii)\n",
    "\n",
    "    plt.plot(xi, yi)"
   ]
  },
  {
   "cell_type": "code",
   "execution_count": 107,
   "id": "2062c198",
   "metadata": {},
   "outputs": [],
   "source": [
    "def calc_triag(pt0: tuple, pt1: tuple, pt2: tuple):\n",
    "    \"\"\"\n",
    "    Triangle area based on points.\n",
    "    https://en.wikipedia.org/wiki/Area_of_a_triangle\n",
    "    \"\"\"\n",
    "    \n",
    "    xa, ya = pt0\n",
    "    xb, yb = pt1\n",
    "    xc, yc = pt2\n",
    "\n",
    "    return 0.5*abs((xa-xc)*(yb-ya) - (xa-xb)*(yc-ya))\n",
    "\n",
    "\n",
    "def calc_trajectory(pt0, pt1, eps: float = 10):\n",
    "    x0, y0 = pt0\n",
    "    x1, y1 = pt1\n",
    "    r0, phi0 = np.sqrt(x0**2+y0**2), np.atan2(y0, x0)\n",
    "    r1, phi1 = np.sqrt(x1**2+y1**2), np.atan2(y1, x1)\n",
    "\n",
    "    r01 = (r0+r1)/2\n",
    "    phi01 = (phi0+phi1)/2\n",
    "    x01p, y01p = r01*np.cos(phi01), r01*np.sin(phi01)\n",
    "\n",
    "    A = calc_triag((x0, y0), (x01p, y01p), (x1, y1))\n",
    "\n",
    "    x01, y01 = (x0+x1)/2, (y0+y1)/2\n",
    "\n",
    "    if A > eps:\n",
    "        new_seg0 = calc_trajectory(pt0, (x01, y01), eps)\n",
    "        new_seg1 = calc_trajectory((x01, y01), pt1, eps)\n",
    "\n",
    "        ret_list = [*new_seg0, *new_seg1[1:]]\n",
    "\n",
    "    else:\n",
    "        ret_list = [pt0, (x01, y01), pt1]\n",
    "\n",
    "    return ret_list\n",
    "    "
   ]
  },
  {
   "cell_type": "code",
   "execution_count": 81,
   "id": "6a8d0a1e",
   "metadata": {},
   "outputs": [
    {
     "data": {
      "text/plain": [
       "(array([ 0., 50.]), array([25.,  0.]))"
      ]
     },
     "execution_count": 81,
     "metadata": {},
     "output_type": "execute_result"
    }
   ],
   "source": [
    "path[0], path[1]"
   ]
  },
  {
   "cell_type": "code",
   "execution_count": 117,
   "id": "28e7a7aa",
   "metadata": {},
   "outputs": [
    {
     "data": {
      "text/plain": [
       "[<matplotlib.lines.Line2D at 0x2098c1555b0>]"
      ]
     },
     "execution_count": 117,
     "metadata": {},
     "output_type": "execute_result"
    },
    {
     "data": {
      "image/png": "[encoded data removed]",
      "text/plain": [
       "<Figure size 640x480 with 1 Axes>"
      ]
     },
     "metadata": {},
     "output_type": "display_data"
    }
   ],
   "source": [
    "plt.plot(path[:2, 0], path[:2, 1])\n",
    "\n",
    "ri, phii = interpolate_path(path_pol[0], path_pol[1])\n",
    "\n",
    "xi = ri*np.cos(phii)\n",
    "yi = ri*np.sin(phii)\n",
    "\n",
    "plt.plot(xi, yi)\n",
    "\n",
    "ret = calc_trajectory(path[0], path[1], 5)\n",
    "ret = np.array(ret)\n",
    "\n",
    "for i in range(ret.shape[0]-1):\n",
    "    r0, phi0 = np.sqrt(ret[i][0]**2 + ret[i][1]**2), np.atan2(ret[i][1], ret[i][0])\n",
    "    r1, phi1 = np.sqrt(ret[i+1][0]**2 + ret[i+1][1]**2), np.atan2(ret[i+1][1], ret[i+1][0])\n",
    "    ri, phii = interpolate_path((r0, phi0), (r1, phi1))\n",
    "\n",
    "    xi = ri*np.cos(phii)\n",
    "    yi = ri*np.sin(phii)\n",
    "\n",
    "    plt.plot(xi, yi)\n",
    "\n",
    "plt.plot()\n",
    "plt.plot(ret[:,0], ret[:, 1])\n"
   ]
  },
  {
   "cell_type": "code",
   "execution_count": 101,
   "id": "90ed3b71",
   "metadata": {},
   "outputs": [
    {
     "data": {
      "text/plain": [
       "array([[ 0., 50.],\n",
       "       [25.,  0.]])"
      ]
     },
     "execution_count": 101,
     "metadata": {},
     "output_type": "execute_result"
    }
   ],
   "source": [
    "path[:2]"
   ]
  },
  {
   "cell_type": "code",
   "execution_count": 104,
   "id": "0bec1ce4",
   "metadata": {},
   "outputs": [
    {
     "name": "stdout",
     "output_type": "stream",
     "text": [
      "[array([ 0., 50.]), (np.float64(3.125), np.float64(43.75)), (np.float64(6.25), np.float64(37.5))]\n",
      "[(np.float64(6.25), np.float64(37.5)), (np.float64(9.375), np.float64(31.25)), (np.float64(12.5), np.float64(25.0))]\n",
      "[array([ 0., 50.]), (np.float64(3.125), np.float64(43.75)), (np.float64(6.25), np.float64(37.5)), (np.float64(9.375), np.float64(31.25)), (np.float64(12.5), np.float64(25.0))]\n",
      "[(np.float64(12.5), np.float64(25.0)), (np.float64(15.625), np.float64(18.75)), (np.float64(18.75), np.float64(12.5))]\n",
      "[(np.float64(18.75), np.float64(12.5)), (np.float64(21.875), np.float64(6.25)), array([25.,  0.])]\n",
      "[(np.float64(12.5), np.float64(25.0)), (np.float64(15.625), np.float64(18.75)), (np.float64(18.75), np.float64(12.5)), (np.float64(21.875), np.float64(6.25)), array([25.,  0.])]\n",
      "[array([ 0., 50.]), (np.float64(3.125), np.float64(43.75)), (np.float64(6.25), np.float64(37.5)), (np.float64(9.375), np.float64(31.25)), (np.float64(12.5), np.float64(25.0)), (np.float64(15.625), np.float64(18.75)), (np.float64(18.75), np.float64(12.5)), (np.float64(21.875), np.float64(6.25)), array([25.,  0.])]\n"
     ]
    }
   ],
   "source": [
    "ret = calc_trajectory(path[0], path[1])"
   ]
  },
  {
   "cell_type": "code",
   "execution_count": 105,
   "id": "255b18d5",
   "metadata": {},
   "outputs": [
    {
     "data": {
      "text/plain": [
       "array([[ 0.   , 50.   ],\n",
       "       [ 3.125, 43.75 ],\n",
       "       [ 6.25 , 37.5  ],\n",
       "       [ 9.375, 31.25 ],\n",
       "       [12.5  , 25.   ],\n",
       "       [15.625, 18.75 ],\n",
       "       [18.75 , 12.5  ],\n",
       "       [21.875,  6.25 ],\n",
       "       [25.   ,  0.   ]])"
      ]
     },
     "execution_count": 105,
     "metadata": {},
     "output_type": "execute_result"
    }
   ],
   "source": [
    "ret = np.array(ret)\n",
    "ret"
   ]
  },
  {
   "cell_type": "code",
   "execution_count": 92,
   "id": "9293f61c",
   "metadata": {},
   "outputs": [
    {
     "data": {
      "text/plain": [
       "array([[ 0.   , 50.   ],\n",
       "       [ 3.125, 43.75 ],\n",
       "       [ 9.375, 31.25 ],\n",
       "       [15.625, 18.75 ],\n",
       "       [21.875,  6.25 ]])"
      ]
     },
     "execution_count": 92,
     "metadata": {},
     "output_type": "execute_result"
    }
   ],
   "source": [
    "ret"
   ]
  },
  {
   "cell_type": "code",
   "execution_count": 76,
   "id": "42d42f03",
   "metadata": {},
   "outputs": [
    {
     "data": {
      "text/plain": [
       "array([ 0., 50.])"
      ]
     },
     "execution_count": 76,
     "metadata": {},
     "output_type": "execute_result"
    }
   ],
   "source": [
    "path[0]"
   ]
  },
  {
   "cell_type": "code",
   "execution_count": 77,
   "id": "7aa971d1",
   "metadata": {},
   "outputs": [
    {
     "name": "stdout",
     "output_type": "stream",
     "text": [
      "369.36891104358256\n"
     ]
    }
   ],
   "source": [
    "calc_trajectory(path[0], path[1])"
   ]
  },
  {
   "cell_type": "code",
   "execution_count": 10,
   "id": "2f504f96",
   "metadata": {},
   "outputs": [
    {
     "data": {
      "text/plain": [
       "b'\\x00\\x00\\x00\\x01'"
      ]
     },
     "execution_count": 10,
     "metadata": {},
     "output_type": "execute_result"
    }
   ],
   "source": [
    "aa.to_bytes(4, \"big\", signed=True)"
   ]
  }
 ],
 "metadata": {
  "kernelspec": {
   "display_name": "venv",
   "language": "python",
   "name": "python3"
  },
  "language_info": {
   "codemirror_mode": {
    "name": "ipython",
    "version": 3
   },
   "file_extension": ".py",
   "mimetype": "text/x-python",
   "name": "python",
   "nbconvert_exporter": "python",
   "pygments_lexer": "ipython3",
   "version": "3.12.7"
  }
 },
 "nbformat": 4,
 "nbformat_minor": 5
}
